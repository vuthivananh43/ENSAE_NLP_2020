{
  "nbformat": 4,
  "nbformat_minor": 0,
  "metadata": {
    "accelerator": "GPU",
    "colab": {
      "name": "Yelp.ipynb",
      "provenance": [],
      "collapsed_sections": [],
      "toc_visible": true,
      "machine_shape": "hm"
    },
    "kernelspec": {
      "name": "python3",
      "display_name": "Python 3"
    },
    "widgets": {
      "application/vnd.jupyter.widget-state+json": {
        "8ef699a4c8e44a29a5e0a43c07e18d47": {
          "model_module": "@jupyter-widgets/controls",
          "model_name": "HBoxModel",
          "state": {
            "_view_name": "HBoxView",
            "_dom_classes": [],
            "_model_name": "HBoxModel",
            "_view_module": "@jupyter-widgets/controls",
            "_model_module_version": "1.5.0",
            "_view_count": null,
            "_view_module_version": "1.5.0",
            "box_style": "",
            "layout": "IPY_MODEL_9b668996df7b4dd2a2c6bb3b6cf5579d",
            "_model_module": "@jupyter-widgets/controls",
            "children": [
              "IPY_MODEL_cfeee6a3d42e405da64f63fdb92acc2c",
              "IPY_MODEL_fba31a73f6674ec286376bd7c2d50d69"
            ]
          }
        },
        "9b668996df7b4dd2a2c6bb3b6cf5579d": {
          "model_module": "@jupyter-widgets/base",
          "model_name": "LayoutModel",
          "state": {
            "_view_name": "LayoutView",
            "grid_template_rows": null,
            "right": null,
            "justify_content": null,
            "_view_module": "@jupyter-widgets/base",
            "overflow": null,
            "_model_module_version": "1.2.0",
            "_view_count": null,
            "flex_flow": null,
            "width": null,
            "min_width": null,
            "border": null,
            "align_items": null,
            "bottom": null,
            "_model_module": "@jupyter-widgets/base",
            "top": null,
            "grid_column": null,
            "overflow_y": null,
            "overflow_x": null,
            "grid_auto_flow": null,
            "grid_area": null,
            "grid_template_columns": null,
            "flex": null,
            "_model_name": "LayoutModel",
            "justify_items": null,
            "grid_row": null,
            "max_height": null,
            "align_content": null,
            "visibility": null,
            "align_self": null,
            "height": null,
            "min_height": null,
            "padding": null,
            "grid_auto_rows": null,
            "grid_gap": null,
            "max_width": null,
            "order": null,
            "_view_module_version": "1.2.0",
            "grid_template_areas": null,
            "object_position": null,
            "object_fit": null,
            "grid_auto_columns": null,
            "margin": null,
            "display": null,
            "left": null
          }
        },
        "cfeee6a3d42e405da64f63fdb92acc2c": {
          "model_module": "@jupyter-widgets/controls",
          "model_name": "IntProgressModel",
          "state": {
            "_view_name": "ProgressView",
            "style": "IPY_MODEL_07e92d04379846d69f185dcd56a84707",
            "_dom_classes": [],
            "description": "Downloading: 100%",
            "_model_name": "IntProgressModel",
            "bar_style": "success",
            "max": 361,
            "_view_module": "@jupyter-widgets/controls",
            "_model_module_version": "1.5.0",
            "value": 361,
            "_view_count": null,
            "_view_module_version": "1.5.0",
            "orientation": "horizontal",
            "min": 0,
            "description_tooltip": null,
            "_model_module": "@jupyter-widgets/controls",
            "layout": "IPY_MODEL_7204a467e4754ec6ace08f77384797d2"
          }
        },
        "fba31a73f6674ec286376bd7c2d50d69": {
          "model_module": "@jupyter-widgets/controls",
          "model_name": "HTMLModel",
          "state": {
            "_view_name": "HTMLView",
            "style": "IPY_MODEL_7f5609cb7afb45fbacd0bee309a055d8",
            "_dom_classes": [],
            "description": "",
            "_model_name": "HTMLModel",
            "placeholder": "​",
            "_view_module": "@jupyter-widgets/controls",
            "_model_module_version": "1.5.0",
            "value": " 361/361 [00:16&lt;00:00, 21.5B/s]",
            "_view_count": null,
            "_view_module_version": "1.5.0",
            "description_tooltip": null,
            "_model_module": "@jupyter-widgets/controls",
            "layout": "IPY_MODEL_1ecf8f7756e04f949eac176334a24bfd"
          }
        },
        "07e92d04379846d69f185dcd56a84707": {
          "model_module": "@jupyter-widgets/controls",
          "model_name": "ProgressStyleModel",
          "state": {
            "_view_name": "StyleView",
            "_model_name": "ProgressStyleModel",
            "description_width": "initial",
            "_view_module": "@jupyter-widgets/base",
            "_model_module_version": "1.5.0",
            "_view_count": null,
            "_view_module_version": "1.2.0",
            "bar_color": null,
            "_model_module": "@jupyter-widgets/controls"
          }
        },
        "7204a467e4754ec6ace08f77384797d2": {
          "model_module": "@jupyter-widgets/base",
          "model_name": "LayoutModel",
          "state": {
            "_view_name": "LayoutView",
            "grid_template_rows": null,
            "right": null,
            "justify_content": null,
            "_view_module": "@jupyter-widgets/base",
            "overflow": null,
            "_model_module_version": "1.2.0",
            "_view_count": null,
            "flex_flow": null,
            "width": null,
            "min_width": null,
            "border": null,
            "align_items": null,
            "bottom": null,
            "_model_module": "@jupyter-widgets/base",
            "top": null,
            "grid_column": null,
            "overflow_y": null,
            "overflow_x": null,
            "grid_auto_flow": null,
            "grid_area": null,
            "grid_template_columns": null,
            "flex": null,
            "_model_name": "LayoutModel",
            "justify_items": null,
            "grid_row": null,
            "max_height": null,
            "align_content": null,
            "visibility": null,
            "align_self": null,
            "height": null,
            "min_height": null,
            "padding": null,
            "grid_auto_rows": null,
            "grid_gap": null,
            "max_width": null,
            "order": null,
            "_view_module_version": "1.2.0",
            "grid_template_areas": null,
            "object_position": null,
            "object_fit": null,
            "grid_auto_columns": null,
            "margin": null,
            "display": null,
            "left": null
          }
        },
        "7f5609cb7afb45fbacd0bee309a055d8": {
          "model_module": "@jupyter-widgets/controls",
          "model_name": "DescriptionStyleModel",
          "state": {
            "_view_name": "StyleView",
            "_model_name": "DescriptionStyleModel",
            "description_width": "",
            "_view_module": "@jupyter-widgets/base",
            "_model_module_version": "1.5.0",
            "_view_count": null,
            "_view_module_version": "1.2.0",
            "_model_module": "@jupyter-widgets/controls"
          }
        },
        "1ecf8f7756e04f949eac176334a24bfd": {
          "model_module": "@jupyter-widgets/base",
          "model_name": "LayoutModel",
          "state": {
            "_view_name": "LayoutView",
            "grid_template_rows": null,
            "right": null,
            "justify_content": null,
            "_view_module": "@jupyter-widgets/base",
            "overflow": null,
            "_model_module_version": "1.2.0",
            "_view_count": null,
            "flex_flow": null,
            "width": null,
            "min_width": null,
            "border": null,
            "align_items": null,
            "bottom": null,
            "_model_module": "@jupyter-widgets/base",
            "top": null,
            "grid_column": null,
            "overflow_y": null,
            "overflow_x": null,
            "grid_auto_flow": null,
            "grid_area": null,
            "grid_template_columns": null,
            "flex": null,
            "_model_name": "LayoutModel",
            "justify_items": null,
            "grid_row": null,
            "max_height": null,
            "align_content": null,
            "visibility": null,
            "align_self": null,
            "height": null,
            "min_height": null,
            "padding": null,
            "grid_auto_rows": null,
            "grid_gap": null,
            "max_width": null,
            "order": null,
            "_view_module_version": "1.2.0",
            "grid_template_areas": null,
            "object_position": null,
            "object_fit": null,
            "grid_auto_columns": null,
            "margin": null,
            "display": null,
            "left": null
          }
        },
        "9c2f271e9e1e407b8c97d4143314e403": {
          "model_module": "@jupyter-widgets/controls",
          "model_name": "HBoxModel",
          "state": {
            "_view_name": "HBoxView",
            "_dom_classes": [],
            "_model_name": "HBoxModel",
            "_view_module": "@jupyter-widgets/controls",
            "_model_module_version": "1.5.0",
            "_view_count": null,
            "_view_module_version": "1.5.0",
            "box_style": "",
            "layout": "IPY_MODEL_417ec64e8f2e4f54b8ffb574ec7afb99",
            "_model_module": "@jupyter-widgets/controls",
            "children": [
              "IPY_MODEL_e4ef6faae6b940be97bbbdb8aed77669",
              "IPY_MODEL_742bb28b82af42508aab9b060a223fc8"
            ]
          }
        },
        "417ec64e8f2e4f54b8ffb574ec7afb99": {
          "model_module": "@jupyter-widgets/base",
          "model_name": "LayoutModel",
          "state": {
            "_view_name": "LayoutView",
            "grid_template_rows": null,
            "right": null,
            "justify_content": null,
            "_view_module": "@jupyter-widgets/base",
            "overflow": null,
            "_model_module_version": "1.2.0",
            "_view_count": null,
            "flex_flow": null,
            "width": null,
            "min_width": null,
            "border": null,
            "align_items": null,
            "bottom": null,
            "_model_module": "@jupyter-widgets/base",
            "top": null,
            "grid_column": null,
            "overflow_y": null,
            "overflow_x": null,
            "grid_auto_flow": null,
            "grid_area": null,
            "grid_template_columns": null,
            "flex": null,
            "_model_name": "LayoutModel",
            "justify_items": null,
            "grid_row": null,
            "max_height": null,
            "align_content": null,
            "visibility": null,
            "align_self": null,
            "height": null,
            "min_height": null,
            "padding": null,
            "grid_auto_rows": null,
            "grid_gap": null,
            "max_width": null,
            "order": null,
            "_view_module_version": "1.2.0",
            "grid_template_areas": null,
            "object_position": null,
            "object_fit": null,
            "grid_auto_columns": null,
            "margin": null,
            "display": null,
            "left": null
          }
        },
        "e4ef6faae6b940be97bbbdb8aed77669": {
          "model_module": "@jupyter-widgets/controls",
          "model_name": "IntProgressModel",
          "state": {
            "_view_name": "ProgressView",
            "style": "IPY_MODEL_cd214304142343e98788ff3d80aa1271",
            "_dom_classes": [],
            "description": "Downloading: 100%",
            "_model_name": "IntProgressModel",
            "bar_style": "success",
            "max": 536063208,
            "_view_module": "@jupyter-widgets/controls",
            "_model_module_version": "1.5.0",
            "value": 536063208,
            "_view_count": null,
            "_view_module_version": "1.5.0",
            "orientation": "horizontal",
            "min": 0,
            "description_tooltip": null,
            "_model_module": "@jupyter-widgets/controls",
            "layout": "IPY_MODEL_9b1e0d3d2ac140499e48f671eb7518ed"
          }
        },
        "742bb28b82af42508aab9b060a223fc8": {
          "model_module": "@jupyter-widgets/controls",
          "model_name": "HTMLModel",
          "state": {
            "_view_name": "HTMLView",
            "style": "IPY_MODEL_ebff2f5ee3374e6c9d03432fe94c3f13",
            "_dom_classes": [],
            "description": "",
            "_model_name": "HTMLModel",
            "placeholder": "​",
            "_view_module": "@jupyter-widgets/controls",
            "_model_module_version": "1.5.0",
            "value": " 536M/536M [00:15&lt;00:00, 33.7MB/s]",
            "_view_count": null,
            "_view_module_version": "1.5.0",
            "description_tooltip": null,
            "_model_module": "@jupyter-widgets/controls",
            "layout": "IPY_MODEL_b04dc992249844b7bb122f2c2a2b4256"
          }
        },
        "cd214304142343e98788ff3d80aa1271": {
          "model_module": "@jupyter-widgets/controls",
          "model_name": "ProgressStyleModel",
          "state": {
            "_view_name": "StyleView",
            "_model_name": "ProgressStyleModel",
            "description_width": "initial",
            "_view_module": "@jupyter-widgets/base",
            "_model_module_version": "1.5.0",
            "_view_count": null,
            "_view_module_version": "1.2.0",
            "bar_color": null,
            "_model_module": "@jupyter-widgets/controls"
          }
        },
        "9b1e0d3d2ac140499e48f671eb7518ed": {
          "model_module": "@jupyter-widgets/base",
          "model_name": "LayoutModel",
          "state": {
            "_view_name": "LayoutView",
            "grid_template_rows": null,
            "right": null,
            "justify_content": null,
            "_view_module": "@jupyter-widgets/base",
            "overflow": null,
            "_model_module_version": "1.2.0",
            "_view_count": null,
            "flex_flow": null,
            "width": null,
            "min_width": null,
            "border": null,
            "align_items": null,
            "bottom": null,
            "_model_module": "@jupyter-widgets/base",
            "top": null,
            "grid_column": null,
            "overflow_y": null,
            "overflow_x": null,
            "grid_auto_flow": null,
            "grid_area": null,
            "grid_template_columns": null,
            "flex": null,
            "_model_name": "LayoutModel",
            "justify_items": null,
            "grid_row": null,
            "max_height": null,
            "align_content": null,
            "visibility": null,
            "align_self": null,
            "height": null,
            "min_height": null,
            "padding": null,
            "grid_auto_rows": null,
            "grid_gap": null,
            "max_width": null,
            "order": null,
            "_view_module_version": "1.2.0",
            "grid_template_areas": null,
            "object_position": null,
            "object_fit": null,
            "grid_auto_columns": null,
            "margin": null,
            "display": null,
            "left": null
          }
        },
        "ebff2f5ee3374e6c9d03432fe94c3f13": {
          "model_module": "@jupyter-widgets/controls",
          "model_name": "DescriptionStyleModel",
          "state": {
            "_view_name": "StyleView",
            "_model_name": "DescriptionStyleModel",
            "description_width": "",
            "_view_module": "@jupyter-widgets/base",
            "_model_module_version": "1.5.0",
            "_view_count": null,
            "_view_module_version": "1.2.0",
            "_model_module": "@jupyter-widgets/controls"
          }
        },
        "b04dc992249844b7bb122f2c2a2b4256": {
          "model_module": "@jupyter-widgets/base",
          "model_name": "LayoutModel",
          "state": {
            "_view_name": "LayoutView",
            "grid_template_rows": null,
            "right": null,
            "justify_content": null,
            "_view_module": "@jupyter-widgets/base",
            "overflow": null,
            "_model_module_version": "1.2.0",
            "_view_count": null,
            "flex_flow": null,
            "width": null,
            "min_width": null,
            "border": null,
            "align_items": null,
            "bottom": null,
            "_model_module": "@jupyter-widgets/base",
            "top": null,
            "grid_column": null,
            "overflow_y": null,
            "overflow_x": null,
            "grid_auto_flow": null,
            "grid_area": null,
            "grid_template_columns": null,
            "flex": null,
            "_model_name": "LayoutModel",
            "justify_items": null,
            "grid_row": null,
            "max_height": null,
            "align_content": null,
            "visibility": null,
            "align_self": null,
            "height": null,
            "min_height": null,
            "padding": null,
            "grid_auto_rows": null,
            "grid_gap": null,
            "max_width": null,
            "order": null,
            "_view_module_version": "1.2.0",
            "grid_template_areas": null,
            "object_position": null,
            "object_fit": null,
            "grid_auto_columns": null,
            "margin": null,
            "display": null,
            "left": null
          }
        }
      }
    }
  },
  "cells": [
    {
      "cell_type": "markdown",
      "metadata": {
        "colab_type": "text",
        "id": "9BKFxlKwTMOh"
      },
      "source": [
        "# Sentiment Analysis"
      ]
    },
    {
      "cell_type": "markdown",
      "metadata": {
        "colab_type": "text",
        "id": "e_1f1vxsT_Pe"
      },
      "source": [
        "This project is devoted to analyzing the sentiments or the satisfaction of customers in using the hotel or restaurant services. In this model, an analysis on the comments left in Yelp is employed to predict the stars rating results. In detail, this is a classification task of separating between negative comments and the positive ones; this is also called a binary classification. In this project, I consider also the multiple classification where this is also based on the text content of the reviews including the label positive or negative as the previous model, and a neutral.\n",
        "Deep neural network and sequence model using RNN architecture, specially bidirectional LSTM model are employed in this project."
      ]
    },
    {
      "cell_type": "code",
      "metadata": {
        "colab_type": "code",
        "id": "Cr-a1GIBTOMz",
        "colab": {}
      },
      "source": [
        "import numpy as np\n",
        "import pandas as pd\n",
        "import matplotlib.pyplot as plt\n",
        "import seaborn as sns\n",
        "from nltk.tokenize import word_tokenize\n",
        "from nltk.stem.wordnet import WordNetLemmatizer\n",
        "from wordcloud import WordCloud\n",
        "import re\n",
        "import string\n",
        "from nltk.corpus import stopwords\n",
        "from nltk import FreqDist\n",
        "import nltk\n",
        "import os\n",
        "from tqdm import tqdm\n",
        "from sklearn.model_selection import train_test_split\n",
        "from sklearn.feature_extraction.text import TfidfVectorizer\n",
        "from sklearn.decomposition import TruncatedSVD\n",
        "from sklearn.preprocessing import LabelBinarizer\n",
        "from sklearn.ensemble import RandomForestClassifier, GradientBoostingClassifier\n",
        "import tensorflow as tf\n",
        "import urllib.request\n",
        "plt.style.use(\"fivethirtyeight\")"
      ],
      "execution_count": 0,
      "outputs": []
    },
    {
      "cell_type": "markdown",
      "metadata": {
        "colab_type": "text",
        "id": "K2XWTZMPVJuE"
      },
      "source": [
        "## 1. Data preprocessing"
      ]
    },
    {
      "cell_type": "markdown",
      "metadata": {
        "colab_type": "text",
        "id": "t-z3syCUWubH"
      },
      "source": [
        "### 1.1. Creation dataset reviews.csv with 20,000 lines\n",
        "\n",
        "\n",
        "---\n",
        "In this part, I extracted 20,000 lines from the original dataset yelp_reviews. The original dataset is available on the Yelp challenge website, which requires creating account to download. While this dataset is huge, I decided to extract a small part in order to feed in these models belows.\n",
        "\n",
        "So, this part will be ignored by setting under types of comment and a csv file is provided instead of the original one.\n",
        "\n"
      ]
    },
    {
      "cell_type": "code",
      "metadata": {
        "colab_type": "code",
        "id": "7Fb-3xi9Vr9h",
        "colab": {}
      },
      "source": [
        "# path_json = 'yelp_academic_dataset_review.json'\n",
        "# reader = pd.read_json(path_json, lines = True, chunksize = 100000)"
      ],
      "execution_count": 0,
      "outputs": []
    },
    {
      "cell_type": "code",
      "metadata": {
        "colab_type": "code",
        "id": "W7cWsRmdVr7L",
        "colab": {}
      },
      "source": [
        "# data = [chunk for (i, chunk) in enumerate(reader) if i < 10]"
      ],
      "execution_count": 0,
      "outputs": []
    },
    {
      "cell_type": "code",
      "metadata": {
        "colab_type": "code",
        "id": "BGETNDYoVr5X",
        "colab": {}
      },
      "source": [
        "## Creating csv dataset\n",
        "\n",
        "# df = pd.concat(data)\n",
        "# df.reset_index(drop = True, inplace = True)\n",
        "# df.to_csv('reviews.csv', index = False)"
      ],
      "execution_count": 0,
      "outputs": []
    },
    {
      "cell_type": "markdown",
      "metadata": {
        "colab_type": "text",
        "id": "3qVg573qXnP2"
      },
      "source": [
        "### 1.2. Importing dataset and dropping N/A"
      ]
    },
    {
      "cell_type": "code",
      "metadata": {
        "id": "TtrB4d0jGPU1",
        "colab_type": "code",
        "outputId": "38206087-df59-47cd-c2c7-62f65d0a5a61",
        "colab": {
          "base_uri": "https://localhost:8080/",
          "height": 35
        }
      },
      "source": [
        "# Download data from google drive\n",
        "urllib.request.urlretrieve(\n",
        "    \"https://drive.google.com/uc?export=download&id=1ixYx_iTlbO3R1IR1RRf9igsbDtH579Ua\", \n",
        "    \"reviews.csv\"\n",
        ")"
      ],
      "execution_count": 32,
      "outputs": [
        {
          "output_type": "execute_result",
          "data": {
            "text/plain": [
              "('reviews.csv', <http.client.HTTPMessage at 0x7feefc2c8b70>)"
            ]
          },
          "metadata": {
            "tags": []
          },
          "execution_count": 32
        }
      ]
    },
    {
      "cell_type": "code",
      "metadata": {
        "colab_type": "code",
        "id": "wlNpVmvoZTXO",
        "colab": {}
      },
      "source": [
        "# Read in the data\n",
        "df = pd.read_csv('reviews.csv')"
      ],
      "execution_count": 0,
      "outputs": []
    },
    {
      "cell_type": "code",
      "metadata": {
        "colab_type": "code",
        "id": "z8K74ZauZTXR",
        "colab": {}
      },
      "source": [
        "# Drop missing values\n",
        "df.dropna(inplace = True)"
      ],
      "execution_count": 0,
      "outputs": []
    },
    {
      "cell_type": "code",
      "metadata": {
        "colab_type": "code",
        "id": "jyKi1SfLZTXV",
        "outputId": "a7274ce9-f7b7-40e6-efb3-2018d79fba71",
        "scrolled": true,
        "colab": {
          "base_uri": "https://localhost:8080/",
          "height": 586
        }
      },
      "source": [
        "df.head()"
      ],
      "execution_count": 35,
      "outputs": [
        {
          "output_type": "execute_result",
          "data": {
            "text/html": [
              "<div>\n",
              "<style scoped>\n",
              "    .dataframe tbody tr th:only-of-type {\n",
              "        vertical-align: middle;\n",
              "    }\n",
              "\n",
              "    .dataframe tbody tr th {\n",
              "        vertical-align: top;\n",
              "    }\n",
              "\n",
              "    .dataframe thead th {\n",
              "        text-align: right;\n",
              "    }\n",
              "</style>\n",
              "<table border=\"1\" class=\"dataframe\">\n",
              "  <thead>\n",
              "    <tr style=\"text-align: right;\">\n",
              "      <th></th>\n",
              "      <th>business_id</th>\n",
              "      <th>cool</th>\n",
              "      <th>date</th>\n",
              "      <th>funny</th>\n",
              "      <th>review_id</th>\n",
              "      <th>stars</th>\n",
              "      <th>text</th>\n",
              "      <th>useful</th>\n",
              "      <th>user_id</th>\n",
              "    </tr>\n",
              "  </thead>\n",
              "  <tbody>\n",
              "    <tr>\n",
              "      <th>0</th>\n",
              "      <td>_98ojJ8WyD_3pxus8XQhwQ</td>\n",
              "      <td>0</td>\n",
              "      <td>2017-12-12</td>\n",
              "      <td>0</td>\n",
              "      <td>kMDq0NXaiW7HUP9ZRTrLpQ</td>\n",
              "      <td>5</td>\n",
              "      <td>After finding Friendly's on Yelp and sending a...</td>\n",
              "      <td>0</td>\n",
              "      <td>9cTIkuwnJW4gi8Gwrep2EA</td>\n",
              "    </tr>\n",
              "    <tr>\n",
              "      <th>1</th>\n",
              "      <td>RGhUTNRudOmr2hDbgrs66g</td>\n",
              "      <td>0</td>\n",
              "      <td>2013-10-19</td>\n",
              "      <td>0</td>\n",
              "      <td>ASkEuTmqocDCx1ruuIudiQ</td>\n",
              "      <td>5</td>\n",
              "      <td>Always fast but most importantly they are alwa...</td>\n",
              "      <td>0</td>\n",
              "      <td>9cTIkuwnJW4gi8Gwrep2EA</td>\n",
              "    </tr>\n",
              "    <tr>\n",
              "      <th>2</th>\n",
              "      <td>X9Q6NT5DtaOm2Ro4mBUXFw</td>\n",
              "      <td>0</td>\n",
              "      <td>2017-12-05</td>\n",
              "      <td>0</td>\n",
              "      <td>EZnqSREksIonJpHpudmMPg</td>\n",
              "      <td>5</td>\n",
              "      <td>I took my Kawasaki quad in for a tune up since...</td>\n",
              "      <td>0</td>\n",
              "      <td>9cTIkuwnJW4gi8Gwrep2EA</td>\n",
              "    </tr>\n",
              "    <tr>\n",
              "      <th>3</th>\n",
              "      <td>Ey-HRBscfi6E_-PD6UrraA</td>\n",
              "      <td>0</td>\n",
              "      <td>2018-05-31</td>\n",
              "      <td>1</td>\n",
              "      <td>C12FyivB7R8VaNTCu9mBqQ</td>\n",
              "      <td>5</td>\n",
              "      <td>We went in to Banner to deliver our baby boy. ...</td>\n",
              "      <td>1</td>\n",
              "      <td>9cTIkuwnJW4gi8Gwrep2EA</td>\n",
              "    </tr>\n",
              "    <tr>\n",
              "      <th>4</th>\n",
              "      <td>CgUceWbcH218TcclcQ43Ig</td>\n",
              "      <td>0</td>\n",
              "      <td>2013-10-19</td>\n",
              "      <td>0</td>\n",
              "      <td>zuFBIZczRySJbqXFbf7CYA</td>\n",
              "      <td>5</td>\n",
              "      <td>I have bought several guns and accessories fro...</td>\n",
              "      <td>0</td>\n",
              "      <td>9cTIkuwnJW4gi8Gwrep2EA</td>\n",
              "    </tr>\n",
              "  </tbody>\n",
              "</table>\n",
              "</div>"
            ],
            "text/plain": [
              "              business_id  cool  ... useful                 user_id\n",
              "0  _98ojJ8WyD_3pxus8XQhwQ     0  ...      0  9cTIkuwnJW4gi8Gwrep2EA\n",
              "1  RGhUTNRudOmr2hDbgrs66g     0  ...      0  9cTIkuwnJW4gi8Gwrep2EA\n",
              "2  X9Q6NT5DtaOm2Ro4mBUXFw     0  ...      0  9cTIkuwnJW4gi8Gwrep2EA\n",
              "3  Ey-HRBscfi6E_-PD6UrraA     0  ...      1  9cTIkuwnJW4gi8Gwrep2EA\n",
              "4  CgUceWbcH218TcclcQ43Ig     0  ...      0  9cTIkuwnJW4gi8Gwrep2EA\n",
              "\n",
              "[5 rows x 9 columns]"
            ]
          },
          "metadata": {
            "tags": []
          },
          "execution_count": 35
        }
      ]
    },
    {
      "cell_type": "code",
      "metadata": {
        "id": "eV9oyJi7PMqa",
        "colab_type": "code",
        "outputId": "e390ae81-57b5-491c-f61c-673f9ed38be2",
        "colab": {
          "base_uri": "https://localhost:8080/",
          "height": 295
        }
      },
      "source": [
        "df.info()"
      ],
      "execution_count": 36,
      "outputs": [
        {
          "output_type": "stream",
          "text": [
            "<class 'pandas.core.frame.DataFrame'>\n",
            "Int64Index: 20000 entries, 0 to 19999\n",
            "Data columns (total 9 columns):\n",
            " #   Column       Non-Null Count  Dtype \n",
            "---  ------       --------------  ----- \n",
            " 0   business_id  20000 non-null  object\n",
            " 1   cool         20000 non-null  int64 \n",
            " 2   date         20000 non-null  object\n",
            " 3   funny        20000 non-null  int64 \n",
            " 4   review_id    20000 non-null  object\n",
            " 5   stars        20000 non-null  int64 \n",
            " 6   text         20000 non-null  object\n",
            " 7   useful       20000 non-null  int64 \n",
            " 8   user_id      20000 non-null  object\n",
            "dtypes: int64(4), object(5)\n",
            "memory usage: 1.5+ MB\n"
          ],
          "name": "stdout"
        }
      ]
    },
    {
      "cell_type": "markdown",
      "metadata": {
        "colab_type": "text",
        "id": "TW0zr8iZX6sU"
      },
      "source": [
        "## 2. Modelisation"
      ]
    },
    {
      "cell_type": "markdown",
      "metadata": {
        "colab_type": "text",
        "id": "YmaGMyA_X_ld"
      },
      "source": [
        "### 2.1. Model 1: Predict positive/negative/neutral comment using basic models"
      ]
    },
    {
      "cell_type": "code",
      "metadata": {
        "id": "teNIGySZP3BS",
        "colab_type": "code",
        "colab": {}
      },
      "source": [
        "# Define labels: 1 (positive) if stars > 3, -1 (negative) if stars < 3, 0 (neutral) if stars = 3\n",
        "df['stars'] = df['stars'].apply(lambda x: \"positive\" if x > 3 else (\"negative\" if x < 3 else \"neutral\"))"
      ],
      "execution_count": 0,
      "outputs": []
    },
    {
      "cell_type": "code",
      "metadata": {
        "id": "nJk6ebyyIQ6A",
        "colab_type": "code",
        "outputId": "088a648e-08c2-4aa9-aaac-4103203bd677",
        "colab": {
          "base_uri": "https://localhost:8080/",
          "height": 500
        }
      },
      "source": [
        "# Distribution of `class`\n",
        "plt.figure(figsize=(10, 7));\n",
        "g = sns.countplot(x='stars', data=df)\n",
        "plt.title('Number of observation in the dataset in each group of class');\n",
        "ax = g.axes\n",
        "for p in ax.patches:\n",
        "     ax.annotate(f\"{p.get_height() * 100 / df.shape[0]:.2f}%\", (p.get_x() + p.get_width() / 2., p.get_height()),\n",
        "         ha='center', va='center', fontsize=11, color='green', rotation=0, xytext=(0, 10),\n",
        "         textcoords='offset points') "
      ],
      "execution_count": 38,
      "outputs": [
        {
          "output_type": "display_data",
          "data": {
            "image/png": "[encoded data removed]",
            "text/plain": [
              "<Figure size 720x504 with 1 Axes>"
            ]
          },
          "metadata": {
            "tags": []
          }
        }
      ]
    },
    {
      "cell_type": "code",
      "metadata": {
        "id": "H8RhabeIJ8Dp",
        "colab_type": "code",
        "colab": {}
      },
      "source": [
        "# Function to clean texts\n",
        "def clean(x):   \n",
        "    x = word_tokenize(x) #tokenizing\n",
        "    x = [word.lower() for word in x] \n",
        "    regex = re.compile('[%s]' % re.escape(string.punctuation))\n",
        "    x = [regex.sub('', word) for word in x if not regex.sub('', word) == ''] #removing punctuation\n",
        "    wordnet = WordNetLemmatizer()\n",
        "    x = [wordnet.lemmatize(word) for word in x] #lemmatizing\n",
        "    x = [word for word in x if not word.lower() in stopwords.words('english')] #removing stopwords\n",
        "    return ' '.join(x)"
      ],
      "execution_count": 0,
      "outputs": []
    },
    {
      "cell_type": "code",
      "metadata": {
        "id": "pbIrWBUaMIiV",
        "colab_type": "code",
        "outputId": "d1a92dd9-aa4a-4c73-fcd9-94cb6062e1c8",
        "colab": {
          "base_uri": "https://localhost:8080/",
          "height": 139
        }
      },
      "source": [
        "nltk.download('punkt')\n",
        "nltk.download('wordnet')\n",
        "nltk.download('stopwords')"
      ],
      "execution_count": 40,
      "outputs": [
        {
          "output_type": "stream",
          "text": [
            "[nltk_data] Downloading package punkt to /root/nltk_data...\n",
            "[nltk_data]   Unzipping tokenizers/punkt.zip.\n",
            "[nltk_data] Downloading package wordnet to /root/nltk_data...\n",
            "[nltk_data]   Unzipping corpora/wordnet.zip.\n",
            "[nltk_data] Downloading package stopwords to /root/nltk_data...\n",
            "[nltk_data]   Unzipping corpora/stopwords.zip.\n"
          ],
          "name": "stdout"
        },
        {
          "output_type": "execute_result",
          "data": {
            "text/plain": [
              "True"
            ]
          },
          "metadata": {
            "tags": []
          },
          "execution_count": 40
        }
      ]
    },
    {
      "cell_type": "code",
      "metadata": {
        "id": "SG5sWUXlKziO",
        "colab_type": "code",
        "colab": {}
      },
      "source": [
        "# Cleaning text\n",
        "df['cleaned_text'] = df['text'].apply(clean)"
      ],
      "execution_count": 0,
      "outputs": []
    },
    {
      "cell_type": "code",
      "metadata": {
        "id": "pVZA6uVwNXdl",
        "colab_type": "code",
        "outputId": "13f320de-a7cb-4c31-f201-922db65d0caf",
        "colab": {
          "base_uri": "https://localhost:8080/",
          "height": 211
        }
      },
      "source": [
        "# Displaying several texts after cleaning\n",
        "for i in range(5):\n",
        "    np.random.seed(i + 167)\n",
        "    print(f'TEXT {i + 1}: {df.iloc[np.random.randint(len(df))][\"cleaned_text\"]} \\n')"
      ],
      "execution_count": 42,
      "outputs": [
        {
          "output_type": "stream",
          "text": [
            "TEXT 1: serverbartender amanda wa amazing great talk wa sweet also hilarious coming back \n",
            "\n",
            "TEXT 2: came early morning around 10am nt run busy traffic waiter waiting food anything like waiter wa nice helped order since wa first time ordered pancake banana wa sweet n tasty like pancake ingredient banana chocolate chip etc actually baked pancake tossed top another great thing pancake actually baked make great difference sooo fluffy inside outer side pancake crispy yummy ate half pancake also ordered breakfast platter 2 sunny side egg warm tasty ate one 2 sizzling sausage ate half 1 evenly cooked hash brown ate spoonful lastly ordered side biscuit gravy omg best ever tasted highly recommend trying come 2 biscuit ate one wanted save one later tried little bit everything nt finish everything food wa nt die order lot food could nt fit everything stomach guess got carried away lol wanted try everything menu \n",
            "\n",
            "TEXT 3: walking distance house best coffee consistent service always busy waitstaff bus boy running seamless operation flip table time love redecorated still smile seeing egg carton eggshell art protein pancake bomb ample outdoor seating area nice leisurely brunch \n",
            "\n",
            "TEXT 4: wow wow wow wow idea ice cream could amazing lot unique flavor want different make even esoteric flavor taste delicious hand favorite toffee banoffee sundae salted caramel drizzle alone worth trip make want grab squeezeit bottle suck like baby aside sundae next favorite peaberry espresso ice cream sure peaberry pretty sure code frickin delicious definitely place go indulge impress family coworkers funny tidbit wife went time dating proposed sent wife scavenger hunt memorable favorite place around valley employee sweet republic gracious enough help give wife last clue directed proposal spot sweet republic always special place u please open location chandler tempe \n",
            "\n",
            "TEXT 5: good experience buying wife rzr 900 xc gimmick came pricing wa door hour also lot helpful tip maintenance place go \n",
            "\n"
          ],
          "name": "stdout"
        }
      ]
    },
    {
      "cell_type": "code",
      "metadata": {
        "id": "U4-YszzCQkYa",
        "colab_type": "code",
        "colab": {}
      },
      "source": [
        "# Creating dictionary containing all words and their frequencies \n",
        "text = ' '.join(df['cleaned_text'].values)\n",
        "dic = FreqDist(text.split(' '))"
      ],
      "execution_count": 0,
      "outputs": []
    },
    {
      "cell_type": "code",
      "metadata": {
        "id": "q2G_aP50QxsZ",
        "colab_type": "code",
        "outputId": "317cf574-4f7f-421a-a789-6d39ff660826",
        "colab": {
          "base_uri": "https://localhost:8080/",
          "height": 35
        }
      },
      "source": [
        "print(f'Number of different words in dataset: {len(dic)}')"
      ],
      "execution_count": 44,
      "outputs": [
        {
          "output_type": "stream",
          "text": [
            "Number of different words in dataset: 37399\n"
          ],
          "name": "stdout"
        }
      ]
    },
    {
      "cell_type": "code",
      "metadata": {
        "id": "VaXR8P0RQ0H9",
        "colab_type": "code",
        "outputId": "6c8976f9-2b1f-4042-bb86-e89d866cd8f6",
        "colab": {
          "base_uri": "https://localhost:8080/",
          "height": 364
        }
      },
      "source": [
        "# Top 20 highest frequency words\n",
        "sorted(dic.items(), key=lambda y: y[1], reverse = True)[:20]"
      ],
      "execution_count": 45,
      "outputs": [
        {
          "output_type": "execute_result",
          "data": {
            "text/plain": [
              "[('wa', 42648),\n",
              " ('nt', 15567),\n",
              " ('place', 11213),\n",
              " ('good', 10910),\n",
              " ('food', 10634),\n",
              " ('great', 8910),\n",
              " ('time', 8526),\n",
              " ('like', 7890),\n",
              " ('get', 7454),\n",
              " ('service', 7338),\n",
              " ('one', 7089),\n",
              " ('would', 7018),\n",
              " ('back', 6074),\n",
              " ('really', 5887),\n",
              " ('go', 5674),\n",
              " ('also', 4643),\n",
              " ('got', 4330),\n",
              " ('u', 4295),\n",
              " ('nice', 4169),\n",
              " ('even', 4094)]"
            ]
          },
          "metadata": {
            "tags": []
          },
          "execution_count": 45
        }
      ]
    },
    {
      "cell_type": "code",
      "metadata": {
        "id": "02ye_tDsUE-s",
        "colab_type": "code",
        "outputId": "8bf2f03e-df9b-4fd8-b05e-c7290c3e4de9",
        "colab": {
          "base_uri": "https://localhost:8080/",
          "height": 475
        }
      },
      "source": [
        "# Using WordCloud to look at most common words\n",
        "fig, ax = plt.subplots(figsize = (10, 7))\n",
        "wordcloud = WordCloud(max_font_size=None, background_color='white',\n",
        "                      width=1200, height=1000).generate(text)\n",
        "plt.imshow(wordcloud)\n",
        "plt.title('Top words', fontsize=16)\n",
        "plt.axis(\"off\")"
      ],
      "execution_count": 46,
      "outputs": [
        {
          "output_type": "execute_result",
          "data": {
            "text/plain": [
              "(-0.5, 1199.5, 999.5, -0.5)"
            ]
          },
          "metadata": {
            "tags": []
          },
          "execution_count": 46
        },
        {
          "output_type": "display_data",
          "data": {
            "image/png": "[encoded data removed]",
            "text/plain": [
              "<Figure size 720x504 with 1 Axes>"
            ]
          },
          "metadata": {
            "tags": []
          }
        }
      ]
    },
    {
      "cell_type": "markdown",
      "metadata": {
        "id": "Lm0dVkPbs0wR",
        "colab_type": "text"
      },
      "source": [
        "#### 2.1.1. TF-IDF features\n"
      ]
    },
    {
      "cell_type": "code",
      "metadata": {
        "id": "MD3LZ_SCVH3Q",
        "colab_type": "code",
        "colab": {}
      },
      "source": [
        "# Feature extraction using TfidfVectorizer to find (at least) four letter tokens, remove stop_words,\n",
        "# remove tokens that don't appear in at least 30 documents\n",
        "# remove tokens that appear in more than 50% of the documents\n",
        "tfidf = TfidfVectorizer(min_df=30, max_df=0.5, ngram_range=(1,4), stop_words='english', \n",
        "                        token_pattern='(?u)\\\\b\\\\w\\\\w\\\\w+\\\\b').fit(df['cleaned_text'])"
      ],
      "execution_count": 0,
      "outputs": []
    },
    {
      "cell_type": "code",
      "metadata": {
        "id": "Grp99lxBVb8_",
        "colab_type": "code",
        "outputId": "06ef4eb8-2265-437c-926b-887ceba415f3",
        "colab": {
          "base_uri": "https://localhost:8080/",
          "height": 35
        }
      },
      "source": [
        "print(f'There are {len(tfidf.get_feature_names())} (group) words in the vocabulary')"
      ],
      "execution_count": 48,
      "outputs": [
        {
          "output_type": "stream",
          "text": [
            "There are 4446 (group) words in the vocabulary\n"
          ],
          "name": "stdout"
        }
      ]
    },
    {
      "cell_type": "code",
      "metadata": {
        "id": "0OggdDnJVivu",
        "colab_type": "code",
        "outputId": "7cad8919-9fae-4091-a558-66dc154713c5",
        "colab": {
          "base_uri": "https://localhost:8080/",
          "height": 104
        }
      },
      "source": [
        "# Displaying some words in the vocab\n",
        "for i in range(5):\n",
        "    print(tfidf.get_feature_names()[np.random.randint(2720)])"
      ],
      "execution_count": 49,
      "outputs": [
        {
          "output_type": "stream",
          "text": [
            "fiancã\n",
            "decent food\n",
            "date\n",
            "greatest\n",
            "know stuff\n"
          ],
          "name": "stdout"
        }
      ]
    },
    {
      "cell_type": "code",
      "metadata": {
        "id": "dNcfC17ZWXPz",
        "colab_type": "code",
        "colab": {}
      },
      "source": [
        "# Transforming from text to array tfidf features\n",
        "X_tfidf = tfidf.transform(df['cleaned_text']).toarray()"
      ],
      "execution_count": 0,
      "outputs": []
    },
    {
      "cell_type": "code",
      "metadata": {
        "id": "UvV9m4jVWZs8",
        "colab_type": "code",
        "outputId": "44935694-75f1-4ff1-b2a6-28072904209e",
        "colab": {
          "base_uri": "https://localhost:8080/",
          "height": 35
        }
      },
      "source": [
        "print(f'Shape of X_tfidf = {X_tfidf.shape}')"
      ],
      "execution_count": 51,
      "outputs": [
        {
          "output_type": "stream",
          "text": [
            "Shape of X_tfidf = (20000, 4446)\n"
          ],
          "name": "stdout"
        }
      ]
    },
    {
      "cell_type": "markdown",
      "metadata": {
        "id": "UoRZhji-kqpv",
        "colab_type": "text"
      },
      "source": [
        "#### 2.1.2. Statistical Features\n",
        "\n",
        "In this section, several features of description are considered, such as: number of characters, number of words, number of different words, number of digits, number of non-words, average characters per word."
      ]
    },
    {
      "cell_type": "code",
      "metadata": {
        "id": "pxWM_2tckuNS",
        "colab_type": "code",
        "colab": {}
      },
      "source": [
        "df['nb_characters'] = df['cleaned_text'].str.len()\n",
        "df['nb_words'] = df['cleaned_text'].str.split().str.len()\n",
        "df['nb_diff_words'] = df['cleaned_text'].apply(lambda x: len(set(x.split())))\n",
        "df['nb_digits'] = df['cleaned_text'].str.count(r'\\d')\n",
        "df['nb_non_words'] = df['cleaned_text'].str.count(r'\\W')\n",
        "df['avg_characters_per_word'] = (df['nb_characters'] - df['nb_non_words'])/(df['nb_words'] + 1)"
      ],
      "execution_count": 0,
      "outputs": []
    },
    {
      "cell_type": "code",
      "metadata": {
        "id": "Xs_1yLujAx2A",
        "colab_type": "code",
        "colab": {}
      },
      "source": [
        "X_tfidf = np.c_[\n",
        "    X_tfidf,\n",
        "    df['nb_characters'],\n",
        "    df['nb_words'],\n",
        "    df['nb_diff_words'],\n",
        "    df['nb_digits'],\n",
        "    df['nb_non_words'],\n",
        "    df['avg_characters_per_word']\n",
        "]"
      ],
      "execution_count": 0,
      "outputs": []
    },
    {
      "cell_type": "code",
      "metadata": {
        "id": "uzSGH4lSXwF5",
        "colab_type": "code",
        "outputId": "060c016e-c5bb-4bd4-9f55-7aff158b7642",
        "colab": {
          "base_uri": "https://localhost:8080/",
          "height": 35
        }
      },
      "source": [
        "lb = LabelBinarizer().fit(df['stars'])\n",
        "print(lb.classes_)\n",
        "Y =  lb.transform(df['stars'])"
      ],
      "execution_count": 54,
      "outputs": [
        {
          "output_type": "stream",
          "text": [
            "['negative' 'neutral' 'positive']\n"
          ],
          "name": "stdout"
        }
      ]
    },
    {
      "cell_type": "code",
      "metadata": {
        "id": "7zypElUvW2-0",
        "colab_type": "code",
        "colab": {}
      },
      "source": [
        "# Split data into training and test sets (as the number of our dataset is quite large, we need only 10% samples in test set)\n",
        "X_train, X_test, Y_train, Y_test = train_test_split(X_tfidf, Y, test_size=0.1, random_state=167, stratify=df[\"stars\"])"
      ],
      "execution_count": 0,
      "outputs": []
    },
    {
      "cell_type": "code",
      "metadata": {
        "colab_type": "code",
        "id": "sqOH8Uvx0iFA",
        "outputId": "c989da31-44ae-4ba8-f268-75fdc0537fe1",
        "colab": {
          "base_uri": "https://localhost:8080/",
          "height": 87
        }
      },
      "source": [
        "# Check shape:\n",
        "print('Shape of X_train_tfidf = ', X_train.shape)\n",
        "print('Shape of X_test_tfidf = ', X_test.shape)\n",
        "print('Shape of Y_train = ', Y_train.shape)\n",
        "print('Shape of Y_test = ', Y_test.shape)"
      ],
      "execution_count": 56,
      "outputs": [
        {
          "output_type": "stream",
          "text": [
            "Shape of X_train_tfidf =  (18000, 4452)\n",
            "Shape of X_test_tfidf =  (2000, 4452)\n",
            "Shape of Y_train =  (18000, 3)\n",
            "Shape of Y_test =  (2000, 3)\n"
          ],
          "name": "stdout"
        }
      ]
    },
    {
      "cell_type": "markdown",
      "metadata": {
        "id": "mUqkRV3mtWTJ",
        "colab_type": "text"
      },
      "source": [
        "#### 2.1.3. Fully connected neural network"
      ]
    },
    {
      "cell_type": "code",
      "metadata": {
        "colab_type": "code",
        "id": "fGyg96hqNqoU",
        "colab": {}
      },
      "source": [
        "# Load some packages \n",
        "from tensorflow.keras.models import Sequential\n",
        "from tensorflow.keras.layers import Dense, BatchNormalization, Dropout\n",
        "from tensorflow.keras.optimizers import Adam"
      ],
      "execution_count": 0,
      "outputs": []
    },
    {
      "cell_type": "code",
      "metadata": {
        "colab_type": "code",
        "id": "dvmTWEVH0iY-",
        "colab": {}
      },
      "source": [
        "# Creating a neural network model with one hidden layer\n",
        "model = Sequential()\n",
        "model.add(Dense(512, activation = 'relu', input_shape = (4452, )))\n",
        "model.add(BatchNormalization())\n",
        "model.add(Dropout(0.2)) # to avoid overfitting\n",
        "model.add(Dense(128, activation = 'relu'))\n",
        "model.add(BatchNormalization())\n",
        "model.add(Dropout(0.2)) # to avoid overfitting\n",
        "model.add(Dense(3, activation = 'softmax'))"
      ],
      "execution_count": 0,
      "outputs": []
    },
    {
      "cell_type": "code",
      "metadata": {
        "colab_type": "code",
        "id": "wqv53EgcOgUX",
        "outputId": "eddccd37-e95e-4ada-892f-08933fc21f0b",
        "colab": {
          "base_uri": "https://localhost:8080/",
          "height": 277
        }
      },
      "source": [
        "# Let's see the architecture and number of training parameters\n",
        "model.summary()"
      ],
      "execution_count": 0,
      "outputs": [
        {
          "output_type": "stream",
          "text": [
            "_________________________________________________________________\n",
            "Layer (type)                 Output Shape              Param #   \n",
            "=================================================================\n",
            "dense_6 (Dense)              (None, 128)               339712    \n",
            "_________________________________________________________________\n",
            "batch_normalization_3 (Batch (None, 128)               512       \n",
            "_________________________________________________________________\n",
            "dropout_3 (Dropout)          (None, 128)               0         \n",
            "_________________________________________________________________\n",
            "dense_7 (Dense)              (None, 1)                 129       \n",
            "=================================================================\n",
            "Total params: 340,353\n",
            "Trainable params: 340,097\n",
            "Non-trainable params: 256\n",
            "_________________________________________________________________\n"
          ],
          "name": "stdout"
        }
      ]
    },
    {
      "cell_type": "code",
      "metadata": {
        "colab_type": "code",
        "id": "TC-f7sInOgXS",
        "colab": {}
      },
      "source": [
        "# Define Adam optimization method\n",
        "opt = Adam(lr = 0.001, decay = 0.01)"
      ],
      "execution_count": 0,
      "outputs": []
    },
    {
      "cell_type": "code",
      "metadata": {
        "colab_type": "code",
        "id": "t-_8q_boOgaR",
        "colab": {}
      },
      "source": [
        "# Compile model: using binary crossentropy as loss function and accuracy metrics\n",
        "model.compile(loss = 'categorical_crossentropy', optimizer = opt, metrics = ['accuracy'])"
      ],
      "execution_count": 0,
      "outputs": []
    },
    {
      "cell_type": "code",
      "metadata": {
        "colab_type": "code",
        "id": "mVUdqrhK0icL",
        "outputId": "7e1d790d-c831-47a0-964f-9929b5bef206",
        "colab": {
          "base_uri": "https://localhost:8080/",
          "height": 1000
        }
      },
      "source": [
        "# Fitting model with 5 epochs and 128 batch size\n",
        "H = model.fit(X_train, Y_train, validation_data = (X_test, Y_test), epochs = 30, batch_size = 128)"
      ],
      "execution_count": 0,
      "outputs": [
        {
          "output_type": "stream",
          "text": [
            "Epoch 1/30\n",
            "141/141 [==============================] - 1s 5ms/step - loss: 1.0103 - accuracy: 0.5675 - val_loss: 0.8482 - val_accuracy: 0.6605\n",
            "Epoch 2/30\n",
            "141/141 [==============================] - 1s 5ms/step - loss: 0.7498 - accuracy: 0.7158 - val_loss: 0.8290 - val_accuracy: 0.6795\n",
            "Epoch 3/30\n",
            "141/141 [==============================] - 1s 5ms/step - loss: 0.6281 - accuracy: 0.7647 - val_loss: 0.8505 - val_accuracy: 0.6810\n",
            "Epoch 4/30\n",
            "141/141 [==============================] - 1s 5ms/step - loss: 0.5725 - accuracy: 0.7803 - val_loss: 0.6790 - val_accuracy: 0.7360\n",
            "Epoch 5/30\n",
            "141/141 [==============================] - 1s 5ms/step - loss: 0.5499 - accuracy: 0.7914 - val_loss: 0.5423 - val_accuracy: 0.7915\n",
            "Epoch 6/30\n",
            "141/141 [==============================] - 1s 5ms/step - loss: 0.5210 - accuracy: 0.8021 - val_loss: 0.6944 - val_accuracy: 0.7400\n",
            "Epoch 7/30\n",
            "141/141 [==============================] - 1s 5ms/step - loss: 0.4965 - accuracy: 0.8068 - val_loss: 0.4947 - val_accuracy: 0.8060\n",
            "Epoch 8/30\n",
            "141/141 [==============================] - 1s 5ms/step - loss: 0.4672 - accuracy: 0.8218 - val_loss: 0.5237 - val_accuracy: 0.7955\n",
            "Epoch 9/30\n",
            "141/141 [==============================] - 1s 5ms/step - loss: 0.4603 - accuracy: 0.8251 - val_loss: 0.4868 - val_accuracy: 0.8115\n",
            "Epoch 10/30\n",
            "141/141 [==============================] - 1s 5ms/step - loss: 0.4481 - accuracy: 0.8286 - val_loss: 0.5835 - val_accuracy: 0.7950\n",
            "Epoch 11/30\n",
            "141/141 [==============================] - 1s 5ms/step - loss: 0.4349 - accuracy: 0.8296 - val_loss: 0.4809 - val_accuracy: 0.8145\n",
            "Epoch 12/30\n",
            "141/141 [==============================] - 1s 5ms/step - loss: 0.4298 - accuracy: 0.8354 - val_loss: 0.5113 - val_accuracy: 0.8075\n",
            "Epoch 13/30\n",
            "141/141 [==============================] - 1s 5ms/step - loss: 0.4291 - accuracy: 0.8366 - val_loss: 0.5079 - val_accuracy: 0.7980\n",
            "Epoch 14/30\n",
            "141/141 [==============================] - 1s 5ms/step - loss: 0.4256 - accuracy: 0.8352 - val_loss: 0.5372 - val_accuracy: 0.8125\n",
            "Epoch 15/30\n",
            "141/141 [==============================] - 1s 4ms/step - loss: 0.4087 - accuracy: 0.8437 - val_loss: 0.5701 - val_accuracy: 0.7575\n",
            "Epoch 16/30\n",
            "141/141 [==============================] - 1s 5ms/step - loss: 0.4017 - accuracy: 0.8443 - val_loss: 0.4880 - val_accuracy: 0.8175\n",
            "Epoch 17/30\n",
            "141/141 [==============================] - 1s 5ms/step - loss: 0.3980 - accuracy: 0.8458 - val_loss: 0.5173 - val_accuracy: 0.8150\n",
            "Epoch 18/30\n",
            "141/141 [==============================] - 1s 5ms/step - loss: 0.3895 - accuracy: 0.8481 - val_loss: 0.6438 - val_accuracy: 0.7705\n",
            "Epoch 19/30\n",
            "141/141 [==============================] - 1s 5ms/step - loss: 0.3819 - accuracy: 0.8524 - val_loss: 0.6202 - val_accuracy: 0.7660\n",
            "Epoch 20/30\n",
            "141/141 [==============================] - 1s 5ms/step - loss: 0.3825 - accuracy: 0.8547 - val_loss: 0.5016 - val_accuracy: 0.8030\n",
            "Epoch 21/30\n",
            "141/141 [==============================] - 1s 5ms/step - loss: 0.3797 - accuracy: 0.8568 - val_loss: 0.4888 - val_accuracy: 0.8130\n",
            "Epoch 22/30\n",
            "141/141 [==============================] - 1s 5ms/step - loss: 0.3708 - accuracy: 0.8583 - val_loss: 0.4976 - val_accuracy: 0.8025\n",
            "Epoch 23/30\n",
            "141/141 [==============================] - 1s 4ms/step - loss: 0.3720 - accuracy: 0.8561 - val_loss: 0.4993 - val_accuracy: 0.8070\n",
            "Epoch 24/30\n",
            "141/141 [==============================] - 1s 4ms/step - loss: 0.3663 - accuracy: 0.8602 - val_loss: 0.5359 - val_accuracy: 0.7960\n",
            "Epoch 25/30\n",
            "141/141 [==============================] - 1s 5ms/step - loss: 0.3544 - accuracy: 0.8648 - val_loss: 0.4907 - val_accuracy: 0.8090\n",
            "Epoch 26/30\n",
            "141/141 [==============================] - 1s 5ms/step - loss: 0.3633 - accuracy: 0.8599 - val_loss: 0.4960 - val_accuracy: 0.8120\n",
            "Epoch 27/30\n",
            "141/141 [==============================] - 1s 4ms/step - loss: 0.3582 - accuracy: 0.8632 - val_loss: 0.5653 - val_accuracy: 0.7845\n",
            "Epoch 28/30\n",
            "141/141 [==============================] - 1s 5ms/step - loss: 0.3568 - accuracy: 0.8613 - val_loss: 0.5593 - val_accuracy: 0.7955\n",
            "Epoch 29/30\n",
            "141/141 [==============================] - 1s 5ms/step - loss: 0.3537 - accuracy: 0.8626 - val_loss: 0.5305 - val_accuracy: 0.8140\n",
            "Epoch 30/30\n",
            "141/141 [==============================] - 1s 5ms/step - loss: 0.3465 - accuracy: 0.8682 - val_loss: 0.5274 - val_accuracy: 0.8010\n"
          ],
          "name": "stdout"
        }
      ]
    },
    {
      "cell_type": "markdown",
      "metadata": {
        "id": "n5rsBsZStpLV",
        "colab_type": "text"
      },
      "source": [
        "By training only 20 epochs in short time, the training set give **~87% accuracy** and **~80% accuracy** in test sets. This result is significant, this may due to the small number of parameters using the model and not much large size of database."
      ]
    },
    {
      "cell_type": "markdown",
      "metadata": {
        "id": "_Z1eHztsuBYw",
        "colab_type": "text"
      },
      "source": [
        "#### 2.1.4. Random forest"
      ]
    },
    {
      "cell_type": "code",
      "metadata": {
        "id": "pqTH5bJuZlP4",
        "colab_type": "code",
        "colab": {}
      },
      "source": [
        "rf = RandomForestClassifier(n_estimators = 500, bootstrap = True, max_features = 'sqrt')"
      ],
      "execution_count": 0,
      "outputs": []
    },
    {
      "cell_type": "code",
      "metadata": {
        "id": "g3ffBHtqanfH",
        "colab_type": "code",
        "outputId": "f717266a-7618-4627-fae3-d9184d32fc60",
        "colab": {
          "base_uri": "https://localhost:8080/",
          "height": 156
        }
      },
      "source": [
        "rf.fit(X_train, lb.inverse_transform(Y_train))"
      ],
      "execution_count": 0,
      "outputs": [
        {
          "output_type": "execute_result",
          "data": {
            "text/plain": [
              "RandomForestClassifier(bootstrap=True, ccp_alpha=0.0, class_weight=None,\n",
              "                       criterion='gini', max_depth=None, max_features='sqrt',\n",
              "                       max_leaf_nodes=None, max_samples=None,\n",
              "                       min_impurity_decrease=0.0, min_impurity_split=None,\n",
              "                       min_samples_leaf=1, min_samples_split=2,\n",
              "                       min_weight_fraction_leaf=0.0, n_estimators=500,\n",
              "                       n_jobs=None, oob_score=False, random_state=None,\n",
              "                       verbose=0, warm_start=False)"
            ]
          },
          "metadata": {
            "tags": []
          },
          "execution_count": 72
        }
      ]
    },
    {
      "cell_type": "code",
      "metadata": {
        "id": "VTnX1SUxeK9C",
        "colab_type": "code",
        "outputId": "4e9546b2-20d0-44d5-ad6c-4834a66285be",
        "colab": {
          "base_uri": "https://localhost:8080/",
          "height": 34
        }
      },
      "source": [
        "rf.score(X_train, lb.inverse_transform(Y_train))"
      ],
      "execution_count": 0,
      "outputs": [
        {
          "output_type": "execute_result",
          "data": {
            "text/plain": [
              "0.9999444444444444"
            ]
          },
          "metadata": {
            "tags": []
          },
          "execution_count": 73
        }
      ]
    },
    {
      "cell_type": "code",
      "metadata": {
        "id": "xzhnsU9teOc3",
        "colab_type": "code",
        "outputId": "5604b77d-e550-4b25-edb2-33845e6cb452",
        "colab": {
          "base_uri": "https://localhost:8080/",
          "height": 34
        }
      },
      "source": [
        "rf.score(X_test, lb.inverse_transform(Y_test))"
      ],
      "execution_count": 0,
      "outputs": [
        {
          "output_type": "execute_result",
          "data": {
            "text/plain": [
              "0.776"
            ]
          },
          "metadata": {
            "tags": []
          },
          "execution_count": 74
        }
      ]
    },
    {
      "cell_type": "markdown",
      "metadata": {
        "id": "wjjsIAs8uJ4J",
        "colab_type": "text"
      },
      "source": [
        "#### 2.1.5. Gradient Boosting"
      ]
    },
    {
      "cell_type": "code",
      "metadata": {
        "id": "bR6bXIAacN9S",
        "colab_type": "code",
        "colab": {}
      },
      "source": [
        "gb = GradientBoostingClassifier(n_estimators = 500, max_features = 'sqrt')"
      ],
      "execution_count": 0,
      "outputs": []
    },
    {
      "cell_type": "code",
      "metadata": {
        "id": "lziyu3jpgD4v",
        "colab_type": "code",
        "outputId": "8686c6a3-8474-48c0-ec50-f39f382be46f",
        "colab": {
          "base_uri": "https://localhost:8080/",
          "height": 191
        }
      },
      "source": [
        "gb.fit(X_train, lb.inverse_transform(Y_train))"
      ],
      "execution_count": 0,
      "outputs": [
        {
          "output_type": "execute_result",
          "data": {
            "text/plain": [
              "GradientBoostingClassifier(ccp_alpha=0.0, criterion='friedman_mse', init=None,\n",
              "                           learning_rate=0.1, loss='deviance', max_depth=3,\n",
              "                           max_features='sqrt', max_leaf_nodes=None,\n",
              "                           min_impurity_decrease=0.0, min_impurity_split=None,\n",
              "                           min_samples_leaf=1, min_samples_split=2,\n",
              "                           min_weight_fraction_leaf=0.0, n_estimators=500,\n",
              "                           n_iter_no_change=None, presort='deprecated',\n",
              "                           random_state=None, subsample=1.0, tol=0.0001,\n",
              "                           validation_fraction=0.1, verbose=0,\n",
              "                           warm_start=False)"
            ]
          },
          "metadata": {
            "tags": []
          },
          "execution_count": 77
        }
      ]
    },
    {
      "cell_type": "code",
      "metadata": {
        "id": "027WaBaogKeW",
        "colab_type": "code",
        "outputId": "a937f87e-a7e7-4bc1-b96e-0e8ad6c7e3e2",
        "colab": {
          "base_uri": "https://localhost:8080/",
          "height": 34
        }
      },
      "source": [
        "gb.score(X_train, lb.inverse_transform(Y_train))"
      ],
      "execution_count": 0,
      "outputs": [
        {
          "output_type": "execute_result",
          "data": {
            "text/plain": [
              "0.8699444444444444"
            ]
          },
          "metadata": {
            "tags": []
          },
          "execution_count": 78
        }
      ]
    },
    {
      "cell_type": "code",
      "metadata": {
        "id": "SsNPObKWgK8l",
        "colab_type": "code",
        "outputId": "6454d3c1-f4fa-4300-dcbd-cdc3622d2a30",
        "colab": {
          "base_uri": "https://localhost:8080/",
          "height": 34
        }
      },
      "source": [
        "gb.score(X_test, lb.inverse_transform(Y_test))"
      ],
      "execution_count": 0,
      "outputs": [
        {
          "output_type": "execute_result",
          "data": {
            "text/plain": [
              "0.802"
            ]
          },
          "metadata": {
            "tags": []
          },
          "execution_count": 79
        }
      ]
    },
    {
      "cell_type": "markdown",
      "metadata": {
        "id": "0GrBHjaxuSEd",
        "colab_type": "text"
      },
      "source": [
        "#### 2.1.6 XGBoost and LightGBM"
      ]
    },
    {
      "cell_type": "code",
      "metadata": {
        "id": "Cd4USG6pge8z",
        "colab_type": "code",
        "colab": {}
      },
      "source": [
        "import xgboost as xgb\n",
        "import lightgbm as lgb"
      ],
      "execution_count": 0,
      "outputs": []
    },
    {
      "cell_type": "code",
      "metadata": {
        "id": "FugxHv6zggop",
        "colab_type": "code",
        "colab": {}
      },
      "source": [
        "XGB = xgb.XGBClassifier(learning_rate = 0.1, n_estimators = 500, colsample_bytree = 0.8, subsample = 0.6,\n",
        "                                            nthread = 4, seed = 27)"
      ],
      "execution_count": 0,
      "outputs": []
    },
    {
      "cell_type": "code",
      "metadata": {
        "id": "lzfXpN3qg5Fr",
        "colab_type": "code",
        "outputId": "1a14b9ec-be6f-411f-b12a-0456d670e39c",
        "colab": {
          "base_uri": "https://localhost:8080/",
          "height": 139
        }
      },
      "source": [
        "XGB.fit(X_train, lb.inverse_transform(Y_train))"
      ],
      "execution_count": 0,
      "outputs": [
        {
          "output_type": "execute_result",
          "data": {
            "text/plain": [
              "XGBClassifier(base_score=0.5, booster='gbtree', colsample_bylevel=1,\n",
              "              colsample_bynode=1, colsample_bytree=0.8, gamma=0,\n",
              "              learning_rate=0.1, max_delta_step=0, max_depth=3,\n",
              "              min_child_weight=1, missing=None, n_estimators=500, n_jobs=1,\n",
              "              nthread=4, objective='multi:softprob', random_state=0,\n",
              "              reg_alpha=0, reg_lambda=1, scale_pos_weight=1, seed=27,\n",
              "              silent=None, subsample=0.6, verbosity=1)"
            ]
          },
          "metadata": {
            "tags": []
          },
          "execution_count": 83
        }
      ]
    },
    {
      "cell_type": "code",
      "metadata": {
        "id": "rqB6fFelg-Za",
        "colab_type": "code",
        "outputId": "556be060-8913-4534-e203-8540ca19c733",
        "colab": {
          "base_uri": "https://localhost:8080/",
          "height": 34
        }
      },
      "source": [
        "XGB.score(X_train, lb.inverse_transform(Y_train))"
      ],
      "execution_count": 0,
      "outputs": [
        {
          "output_type": "execute_result",
          "data": {
            "text/plain": [
              "0.8719444444444444"
            ]
          },
          "metadata": {
            "tags": []
          },
          "execution_count": 84
        }
      ]
    },
    {
      "cell_type": "code",
      "metadata": {
        "id": "sQBk4SxhbVxj",
        "colab_type": "code",
        "outputId": "4186d89d-535d-4ae3-ea51-fa1d25ce972c",
        "colab": {
          "base_uri": "https://localhost:8080/",
          "height": 34
        }
      },
      "source": [
        "XGB.score(X_test, lb.inverse_transform(Y_test))"
      ],
      "execution_count": 0,
      "outputs": [
        {
          "output_type": "execute_result",
          "data": {
            "text/plain": [
              "0.8075"
            ]
          },
          "metadata": {
            "tags": []
          },
          "execution_count": 85
        }
      ]
    },
    {
      "cell_type": "code",
      "metadata": {
        "id": "269LewEQbh5k",
        "colab_type": "code",
        "colab": {}
      },
      "source": [
        "lightgbm = lgb.LGBMClassifier(learning_rate = 0.1, n_estimators = 500, feature_fraction = 0.8, \n",
        "                              bagging_fraction = 0.8, max_depth = 3, num_leaves = 10, reg_lambda = 1, n_jobs = -1)"
      ],
      "execution_count": 0,
      "outputs": []
    },
    {
      "cell_type": "code",
      "metadata": {
        "id": "ONEerWm2k8LZ",
        "colab_type": "code",
        "outputId": "aeff6763-34b4-4aa4-f0ba-48d594bc8f29",
        "colab": {
          "base_uri": "https://localhost:8080/",
          "height": 139
        }
      },
      "source": [
        "lightgbm.fit(X_train, lb.inverse_transform(Y_train))"
      ],
      "execution_count": 0,
      "outputs": [
        {
          "output_type": "execute_result",
          "data": {
            "text/plain": [
              "LGBMClassifier(bagging_fraction=0.8, boosting_type='gbdt', class_weight=None,\n",
              "               colsample_bytree=1.0, feature_fraction=0.8,\n",
              "               importance_type='split', learning_rate=0.1, max_depth=3,\n",
              "               min_child_samples=20, min_child_weight=0.001, min_split_gain=0.0,\n",
              "               n_estimators=500, n_jobs=-1, num_leaves=10, objective=None,\n",
              "               random_state=None, reg_alpha=0.0, reg_lambda=1, silent=True,\n",
              "               subsample=1.0, subsample_for_bin=200000, subsample_freq=0)"
            ]
          },
          "metadata": {
            "tags": []
          },
          "execution_count": 89
        }
      ]
    },
    {
      "cell_type": "code",
      "metadata": {
        "id": "qa0PoOpzlDM_",
        "colab_type": "code",
        "outputId": "bcdca55a-da9f-4a0a-e592-52a286334ee2",
        "colab": {
          "base_uri": "https://localhost:8080/",
          "height": 34
        }
      },
      "source": [
        "lightgbm.score(X_train, lb.inverse_transform(Y_train))"
      ],
      "execution_count": 0,
      "outputs": [
        {
          "output_type": "execute_result",
          "data": {
            "text/plain": [
              "0.8593888888888889"
            ]
          },
          "metadata": {
            "tags": []
          },
          "execution_count": 90
        }
      ]
    },
    {
      "cell_type": "code",
      "metadata": {
        "id": "vs6vJohzat5I",
        "colab_type": "code",
        "outputId": "1d6580b6-5c82-4f1d-a1e1-6054b0b6cef0",
        "colab": {
          "base_uri": "https://localhost:8080/",
          "height": 34
        }
      },
      "source": [
        "lightgbm.score(X_test, lb.inverse_transform(Y_test))"
      ],
      "execution_count": 0,
      "outputs": [
        {
          "output_type": "execute_result",
          "data": {
            "text/plain": [
              "0.801"
            ]
          },
          "metadata": {
            "tags": []
          },
          "execution_count": 91
        }
      ]
    },
    {
      "cell_type": "markdown",
      "metadata": {
        "colab_type": "text",
        "id": "wTJaMJtueLXQ"
      },
      "source": [
        "### 2.2. Model 2: Predict positive/negative/neutral comment using LSTM model\n",
        "\n"
      ]
    },
    {
      "cell_type": "code",
      "metadata": {
        "colab_type": "code",
        "id": "_qlvwSJeZTXd",
        "colab": {}
      },
      "source": [
        "# Import somme packages\n",
        "from tensorflow.keras.preprocessing.text import Tokenizer\n",
        "from tensorflow.keras.preprocessing.sequence import pad_sequences\n",
        "from tensorflow.keras.optimizers import Adam\n",
        "from tensorflow.keras.callbacks import ModelCheckpoint, EarlyStopping\n",
        "import numpy as np\n",
        "\n",
        "max_len = 250 #Cuts off reviews after 250 words\n",
        "max_words = 20000 #Considers only the top 20,000 words in the dataset"
      ],
      "execution_count": 0,
      "outputs": []
    },
    {
      "cell_type": "markdown",
      "metadata": {
        "id": "_tWHXHwwOXV7",
        "colab_type": "text"
      },
      "source": [
        "Let’s vectorize the text and prepare a training and validation split. We’ll restrict the reviews to the top 20,000 most common words and cut off the reviews after only 250 words. The network will learn 300-dimensional embeddings for each of the 20,000 words, turn the input integer sequences (2D integer tensor) into embedded sequences (3D float tensor).\n",
        "\n",
        "Note that Keras has built-in utilities for doing one-hot encoding of text at the word level or character level, starting from raw text data. They take care of a number of important features such as stripping special characters from strings and only taking into account the N most common words in the dataset (a common restriction, to avoid dealing with very large input vector spaces)."
      ]
    },
    {
      "cell_type": "code",
      "metadata": {
        "colab_type": "code",
        "id": "YSpWrkJzZTXg",
        "colab": {}
      },
      "source": [
        "# Tokenizing the text of the raw data\n",
        "tokenizer = Tokenizer(num_words=max_words)\n",
        "tokenizer.fit_on_texts(df['text'])\n",
        "sequences = tokenizer.texts_to_sequences(df['text']) # obtain lists of integers (position of token in the vocabulary)"
      ],
      "execution_count": 0,
      "outputs": []
    },
    {
      "cell_type": "code",
      "metadata": {
        "colab_type": "code",
        "id": "dqdZUCZRZTXj",
        "outputId": "55d87e3b-bdc6-4342-9b29-950b6295de82",
        "colab": {
          "base_uri": "https://localhost:8080/",
          "height": 34
        }
      },
      "source": [
        "# Display number of tokens in vocabulary\n",
        "word_index = tokenizer.word_index\n",
        "print('Found %s unique tokens.' % len(word_index))"
      ],
      "execution_count": 0,
      "outputs": [
        {
          "output_type": "stream",
          "text": [
            "Found 39652 unique tokens.\n"
          ],
          "name": "stdout"
        }
      ]
    },
    {
      "cell_type": "code",
      "metadata": {
        "colab_type": "code",
        "id": "s7PpHDKiZTXo",
        "colab": {}
      },
      "source": [
        "# Turns the lists of integers into a 2D integer tensor of shape (samples, max_len)\n",
        "data = pad_sequences(sequences, maxlen=max_len)"
      ],
      "execution_count": 0,
      "outputs": []
    },
    {
      "cell_type": "code",
      "metadata": {
        "colab_type": "code",
        "id": "Lf8fMQZ_ZTXr",
        "outputId": "1ad44e66-3b17-4f14-af8f-8badf9714f29",
        "colab": {
          "base_uri": "https://localhost:8080/",
          "height": 34
        }
      },
      "source": [
        "# Check data's shape\n",
        "data.shape"
      ],
      "execution_count": 0,
      "outputs": [
        {
          "output_type": "execute_result",
          "data": {
            "text/plain": [
              "(20000, 250)"
            ]
          },
          "metadata": {
            "tags": []
          },
          "execution_count": 11
        }
      ]
    },
    {
      "cell_type": "code",
      "metadata": {
        "colab_type": "code",
        "id": "tfPW1jhYZTX3",
        "colab": {}
      },
      "source": [
        "# Split data into training and test sets\n",
        "X_train, X_test, Y_train, Y_test = train_test_split(data, Y, test_size=0.1, random_state=167, stratify=df[\"stars\"])"
      ],
      "execution_count": 0,
      "outputs": []
    },
    {
      "cell_type": "markdown",
      "metadata": {
        "id": "La4gAbfTvOf5",
        "colab_type": "text"
      },
      "source": [
        "#### 2.2.1. Embedding layers of GloVe300\n"
      ]
    },
    {
      "cell_type": "markdown",
      "metadata": {
        "id": "mvgPaFXHOXWk",
        "colab_type": "text"
      },
      "source": [
        "In Keras, the embedding matrix is represented as a \"layer\", and maps positive integers (indices corresponding to words) into dense vectors of fixed size (the embedding vectors). It can be trained or initialized with a pretrained embedding. In this part, we will initialize it with the GloVe 300-dimensional vectors (https://nlp.stanford.edu/projects/glove). Because our training set is quite large, we will update the word embeddings instead leave their values fixed (fine-tuning).  \n",
        "\n",
        "The `Embedding()` layer takes an integer matrix of size (batch size, max_len) as input. This corresponds to sentences converted into lists of indices (integers).\n"
      ]
    },
    {
      "cell_type": "code",
      "metadata": {
        "id": "Lw5Ndinblsgi",
        "colab_type": "code",
        "outputId": "0b906571-cf2a-4412-a013-697e79e45913",
        "colab": {
          "base_uri": "https://localhost:8080/",
          "height": 34
        }
      },
      "source": [
        "# (GLOVE WORD EMBEDDINGS - https://nlp.stanford.edu/projects/glove)\n",
        "urllib.request.urlretrieve(\n",
        "    \"http://nlp.stanford.edu/data/glove.6B.zip\", \n",
        "    \"glove.6B.zip\"\n",
        ")"
      ],
      "execution_count": 0,
      "outputs": [
        {
          "output_type": "execute_result",
          "data": {
            "text/plain": [
              "('glove.6B.zip', <http.client.HTTPMessage at 0x7fef47412fd0>)"
            ]
          },
          "metadata": {
            "tags": []
          },
          "execution_count": 13
        }
      ]
    },
    {
      "cell_type": "code",
      "metadata": {
        "id": "D-nt0ARCpUQQ",
        "colab_type": "code",
        "colab": {}
      },
      "source": [
        "import zipfile\n",
        "\n",
        "# Unzip file\n",
        "with zipfile.ZipFile(\"glove.6B.zip\") as zf:\n",
        "    zf.extractall(\"glove.6B\")"
      ],
      "execution_count": 0,
      "outputs": []
    },
    {
      "cell_type": "code",
      "metadata": {
        "colab_type": "code",
        "id": "BFx5uEMpZTX8",
        "outputId": "26041ecb-ea57-4221-cfd5-5052d253b10c",
        "colab": {
          "base_uri": "https://localhost:8080/",
          "height": 34
        }
      },
      "source": [
        "# Preprocessing the precomputed embeddings\n",
        "\n",
        "embeddings_index = {}\n",
        "f = open('glove.6B/glove.6B.300d.txt', encoding = 'utf-8-sig')\n",
        "for line in f:\n",
        "    values = line.split()\n",
        "    word = values[0]\n",
        "    coefs = np.asarray(values[1:], dtype='float32')\n",
        "    embeddings_index[word] = coefs\n",
        "f.close()\n",
        "\n",
        "print('Found %s word vectors.' % len(embeddings_index))"
      ],
      "execution_count": 0,
      "outputs": [
        {
          "output_type": "stream",
          "text": [
            "Found 400000 word vectors.\n"
          ],
          "name": "stdout"
        }
      ]
    },
    {
      "cell_type": "code",
      "metadata": {
        "colab_type": "code",
        "id": "sXHT3pXhZTYC",
        "colab": {}
      },
      "source": [
        "# Preparing the GloVe word-embeddings matrix\n",
        "embedding_dim = 300\n",
        "\n",
        "embedding_matrix = np.zeros((max_words, embedding_dim))\n",
        "for word, i in word_index.items():\n",
        "    if i < max_words:\n",
        "        embedding_vector = embeddings_index.get(word)\n",
        "        if embedding_vector is not None:\n",
        "            embedding_matrix[i] = embedding_vector"
      ],
      "execution_count": 0,
      "outputs": []
    },
    {
      "cell_type": "markdown",
      "metadata": {
        "id": "WqmPM0AUv6i2",
        "colab_type": "text"
      },
      "source": [
        "#### 2.2.2. LSTM model"
      ]
    },
    {
      "cell_type": "markdown",
      "metadata": {
        "id": "ja1pCVPPOXWv",
        "colab_type": "text"
      },
      "source": [
        "Lets now build our model. We will do so using the embedding layer we have built, and feed its output to an LSTM network."
      ]
    },
    {
      "cell_type": "code",
      "metadata": {
        "colab_type": "code",
        "id": "opJ8vPwfZTYH",
        "outputId": "f85e8479-210e-437f-f77c-4cbd8b5b56c8",
        "colab": {
          "base_uri": "https://localhost:8080/",
          "height": 141
        }
      },
      "source": [
        "# Importing some packages\n",
        "from tensorflow.keras.models import Sequential\n",
        "from tensorflow.keras.layers import Embedding, Bidirectional, LSTM, Dense\n",
        "\n",
        "# Model definition\n",
        "model2 = Sequential() \n",
        "model2.add(Embedding(max_words, embedding_dim, input_length=max_len)) # Create the embedding layer\n",
        "\n",
        "# Propagate the embeddings through two LSTM layers with 128-dimensional hidden state and Add dropout to avoid overfitting\n",
        "model2.add(Bidirectional(LSTM(128, return_sequences = True, dropout=0.1, recurrent_dropout=0.3)))\n",
        "model2.add(Bidirectional(LSTM(128, return_sequences = False, dropout=0.1, recurrent_dropout=0.3)))\n",
        "model2.add(Dense(64, activation='relu'))\n",
        "# Propagate X through a Dense layer with softmax activation to get back a batch of 3-dimensional vectors\n",
        "model2.add(Dense(3, activation='softmax'))"
      ],
      "execution_count": 0,
      "outputs": [
        {
          "output_type": "stream",
          "text": [
            "WARNING:tensorflow:Layer lstm_4 will not use cuDNN kernel since it doesn't meet the cuDNN kernel criteria. It will use generic GPU kernel as fallback when running on GPU\n",
            "WARNING:tensorflow:Layer lstm_4 will not use cuDNN kernel since it doesn't meet the cuDNN kernel criteria. It will use generic GPU kernel as fallback when running on GPU\n",
            "WARNING:tensorflow:Layer lstm_4 will not use cuDNN kernel since it doesn't meet the cuDNN kernel criteria. It will use generic GPU kernel as fallback when running on GPU\n",
            "WARNING:tensorflow:Layer lstm_5 will not use cuDNN kernel since it doesn't meet the cuDNN kernel criteria. It will use generic GPU kernel as fallback when running on GPU\n",
            "WARNING:tensorflow:Layer lstm_5 will not use cuDNN kernel since it doesn't meet the cuDNN kernel criteria. It will use generic GPU kernel as fallback when running on GPU\n",
            "WARNING:tensorflow:Layer lstm_5 will not use cuDNN kernel since it doesn't meet the cuDNN kernel criteria. It will use generic GPU kernel as fallback when running on GPU\n"
          ],
          "name": "stdout"
        }
      ]
    },
    {
      "cell_type": "code",
      "metadata": {
        "colab_type": "code",
        "id": "WT0CNFKpZTYK",
        "colab": {}
      },
      "source": [
        "# Loading pretrained word embeddings into the Embedding layer\n",
        "model2.layers[0].set_weights([embedding_matrix])"
      ],
      "execution_count": 0,
      "outputs": []
    },
    {
      "cell_type": "code",
      "metadata": {
        "colab_type": "code",
        "id": "EH9Lwta_ZTYP",
        "outputId": "6b365a83-19ce-430a-e54c-8f13b1df726d",
        "colab": {
          "base_uri": "https://localhost:8080/",
          "height": 330
        }
      },
      "source": [
        "model2.summary()"
      ],
      "execution_count": 0,
      "outputs": [
        {
          "output_type": "stream",
          "text": [
            "Model: \"sequential_2\"\n",
            "_________________________________________________________________\n",
            "Layer (type)                 Output Shape              Param #   \n",
            "=================================================================\n",
            "embedding_2 (Embedding)      (None, 250, 300)          6000000   \n",
            "_________________________________________________________________\n",
            "bidirectional_4 (Bidirection (None, 250, 256)          439296    \n",
            "_________________________________________________________________\n",
            "bidirectional_5 (Bidirection (None, 256)               394240    \n",
            "_________________________________________________________________\n",
            "dense_2 (Dense)              (None, 64)                16448     \n",
            "_________________________________________________________________\n",
            "dense_3 (Dense)              (None, 3)                 195       \n",
            "=================================================================\n",
            "Total params: 6,850,179\n",
            "Trainable params: 6,850,179\n",
            "Non-trainable params: 0\n",
            "_________________________________________________________________\n"
          ],
          "name": "stdout"
        }
      ]
    },
    {
      "cell_type": "code",
      "metadata": {
        "colab_type": "code",
        "id": "N2tIAJOkZTYS",
        "colab": {}
      },
      "source": [
        "# Define what loss, optimizer and metrics. Compile the model using  categorical_crossentropy loss, adam optimizer and ['accuracy'] metrics\n",
        "opt = Adam(lr = 1e-4, decay = 0.01)\n",
        "model2.compile(loss='categorical_crossentropy', optimizer=opt, metrics=['accuracy'])"
      ],
      "execution_count": 0,
      "outputs": []
    },
    {
      "cell_type": "code",
      "metadata": {
        "id": "Kp0S_pqHL8vl",
        "colab_type": "code",
        "colab": {}
      },
      "source": [
        "check_point = ModelCheckpoint('model2.hdf5', monitor='val_acc', mode='max', save_best_only=True, verbose=1)\n",
        "early_stop = EarlyStopping(patience=5)"
      ],
      "execution_count": 0,
      "outputs": []
    },
    {
      "cell_type": "code",
      "metadata": {
        "colab_type": "code",
        "id": "cqwNq6H_ZTYV",
        "outputId": "3ce0e94f-ca3a-4c0d-804b-b1bad36b24dd",
        "colab": {
          "base_uri": "https://localhost:8080/",
          "height": 538
        }
      },
      "source": [
        "# Training model\n",
        "H = model2.fit(X_train, Y_train, validation_data=(X_test, Y_test), epochs=15, batch_size=32, shuffle=True)"
      ],
      "execution_count": 0,
      "outputs": [
        {
          "output_type": "stream",
          "text": [
            "Epoch 1/15\n",
            "563/563 [==============================] - 1641s 3s/step - loss: 0.7093 - accuracy: 0.7199 - val_loss: 0.6150 - val_accuracy: 0.7720\n",
            "Epoch 2/15\n",
            "563/563 [==============================] - 1652s 3s/step - loss: 0.5896 - accuracy: 0.7764 - val_loss: 0.5996 - val_accuracy: 0.7830\n",
            "Epoch 3/15\n",
            "563/563 [==============================] - 1639s 3s/step - loss: 0.5697 - accuracy: 0.7826 - val_loss: 0.5737 - val_accuracy: 0.7875\n",
            "Epoch 4/15\n",
            "563/563 [==============================] - 1640s 3s/step - loss: 0.5567 - accuracy: 0.7877 - val_loss: 0.5676 - val_accuracy: 0.7915\n",
            "Epoch 5/15\n",
            "563/563 [==============================] - 1645s 3s/step - loss: 0.5504 - accuracy: 0.7908 - val_loss: 0.5635 - val_accuracy: 0.7930\n",
            "Epoch 6/15\n",
            "563/563 [==============================] - 1639s 3s/step - loss: 0.5464 - accuracy: 0.7922 - val_loss: 0.5659 - val_accuracy: 0.7910\n",
            "Epoch 7/15\n",
            "563/563 [==============================] - 1639s 3s/step - loss: 0.5428 - accuracy: 0.7930 - val_loss: 0.5602 - val_accuracy: 0.7885\n",
            "Epoch 8/15\n",
            "563/563 [==============================] - 1650s 3s/step - loss: 0.5351 - accuracy: 0.7946 - val_loss: 0.5559 - val_accuracy: 0.7960\n",
            "Epoch 9/15\n",
            "563/563 [==============================] - 1659s 3s/step - loss: 0.5348 - accuracy: 0.7953 - val_loss: 0.5542 - val_accuracy: 0.7960\n",
            "Epoch 10/15\n",
            "563/563 [==============================] - 1662s 3s/step - loss: 0.5320 - accuracy: 0.7971 - val_loss: 0.5519 - val_accuracy: 0.7990\n",
            "Epoch 11/15\n",
            "563/563 [==============================] - 1706s 3s/step - loss: 0.5309 - accuracy: 0.7978 - val_loss: 0.5509 - val_accuracy: 0.7995\n",
            "Epoch 12/15\n",
            "563/563 [==============================] - 1730s 3s/step - loss: 0.5271 - accuracy: 0.7980 - val_loss: 0.5568 - val_accuracy: 0.7900\n",
            "Epoch 13/15\n",
            "563/563 [==============================] - 1733s 3s/step - loss: 0.5257 - accuracy: 0.7980 - val_loss: 0.5463 - val_accuracy: 0.7985\n",
            "Epoch 14/15\n",
            "563/563 [==============================] - 1746s 3s/step - loss: 0.5258 - accuracy: 0.7992 - val_loss: 0.5463 - val_accuracy: 0.7980\n",
            "Epoch 15/15\n",
            "563/563 [==============================] - 1768s 3s/step - loss: 0.5245 - accuracy: 0.7998 - val_loss: 0.5529 - val_accuracy: 0.7920\n"
          ],
          "name": "stdout"
        }
      ]
    },
    {
      "cell_type": "markdown",
      "metadata": {
        "id": "LU_iEt83OXW-",
        "colab_type": "text"
      },
      "source": [
        "After training only 15 epochs, we obtain a validation accuracy of ~80%, which is pretty good while we consider only the first 250 words of inputs, rather than full sequences of sentences (the LSTM has access to less information). \n",
        "\n",
        "**Note:** \"*The primary reason is that analyzing the global, long-term structure of the reviews (what LSTM is good at) isn’t helpful for a sentiment-analysis problem. Such a basic problem is well solved by looking at what words occur in each review, and at what frequency. That’s what the fully connected approach looked at. But there are far more difficult natural language-processing problems out there, where the strength of LSTM will become apparent: in particular, question-answering and machine translation.*\" - François Chollet, creator of the Keras deep-learning library."
      ]
    },
    {
      "cell_type": "code",
      "metadata": {
        "colab_type": "code",
        "id": "tqpZlm132YrX",
        "colab": {}
      },
      "source": [
        "# Saving model after 8 epochs\n",
        "model.save('drive/My Drive/Yelp/multiple_2lstm_8epochs.hdf5')"
      ],
      "execution_count": 0,
      "outputs": []
    },
    {
      "cell_type": "code",
      "metadata": {
        "colab_type": "code",
        "id": "P3y6IQ7_ZTYc",
        "outputId": "de086662-9b75-4136-f926-36fd657f41cd",
        "colab": {}
      },
      "source": [
        "from keras.models import load_model\n",
        "\n",
        "# load trained model\n",
        "model = load_model('drive/My Drive/Yelp/multiple_2lstm_8epochs.hdf5')"
      ],
      "execution_count": 0,
      "outputs": [
        {
          "output_type": "stream",
          "text": [
            "Using TensorFlow backend.\n"
          ],
          "name": "stderr"
        }
      ]
    },
    {
      "cell_type": "markdown",
      "metadata": {
        "id": "jYB7tmzcd2O0",
        "colab_type": "text"
      },
      "source": [
        "## 2.3. Model 3 - BERT\n"
      ]
    },
    {
      "cell_type": "code",
      "metadata": {
        "id": "vP3qJnR20hZy",
        "colab_type": "code",
        "outputId": "95c67a55-f787-4491-8209-629c6ad4903a",
        "colab": {
          "base_uri": "https://localhost:8080/",
          "height": 697
        }
      },
      "source": [
        "!pip install transformers"
      ],
      "execution_count": 0,
      "outputs": [
        {
          "output_type": "stream",
          "text": [
            "Collecting transformers\n",
            "\u001b[?25l  Downloading https://files.pythonhosted.org/packages/a3/78/92cedda05552398352ed9784908b834ee32a0bd071a9b32de287327370b7/transformers-2.8.0-py3-none-any.whl (563kB)\n",
            "\u001b[K     |████████████████████████████████| 573kB 4.4MB/s \n",
            "\u001b[?25hCollecting tokenizers==0.5.2\n",
            "\u001b[?25l  Downloading https://files.pythonhosted.org/packages/d1/3f/73c881ea4723e43c1e9acf317cf407fab3a278daab3a69c98dcac511c04f/tokenizers-0.5.2-cp36-cp36m-manylinux1_x86_64.whl (3.7MB)\n",
            "\u001b[K     |████████████████████████████████| 3.7MB 11.5MB/s \n",
            "\u001b[?25hRequirement already satisfied: regex!=2019.12.17 in /usr/local/lib/python3.6/dist-packages (from transformers) (2019.12.20)\n",
            "Collecting sacremoses\n",
            "\u001b[?25l  Downloading https://files.pythonhosted.org/packages/a6/b4/7a41d630547a4afd58143597d5a49e07bfd4c42914d8335b2a5657efc14b/sacremoses-0.0.38.tar.gz (860kB)\n",
            "\u001b[K     |████████████████████████████████| 870kB 46.2MB/s \n",
            "\u001b[?25hRequirement already satisfied: boto3 in /usr/local/lib/python3.6/dist-packages (from transformers) (1.12.38)\n",
            "Requirement already satisfied: filelock in /usr/local/lib/python3.6/dist-packages (from transformers) (3.0.12)\n",
            "Collecting sentencepiece\n",
            "\u001b[?25l  Downloading https://files.pythonhosted.org/packages/74/f4/2d5214cbf13d06e7cb2c20d84115ca25b53ea76fa1f0ade0e3c9749de214/sentencepiece-0.1.85-cp36-cp36m-manylinux1_x86_64.whl (1.0MB)\n",
            "\u001b[K     |████████████████████████████████| 1.0MB 45.1MB/s \n",
            "\u001b[?25hRequirement already satisfied: dataclasses; python_version < \"3.7\" in /usr/local/lib/python3.6/dist-packages (from transformers) (0.7)\n",
            "Requirement already satisfied: tqdm>=4.27 in /usr/local/lib/python3.6/dist-packages (from transformers) (4.38.0)\n",
            "Requirement already satisfied: numpy in /usr/local/lib/python3.6/dist-packages (from transformers) (1.18.2)\n",
            "Requirement already satisfied: requests in /usr/local/lib/python3.6/dist-packages (from transformers) (2.21.0)\n",
            "Requirement already satisfied: six in /usr/local/lib/python3.6/dist-packages (from sacremoses->transformers) (1.12.0)\n",
            "Requirement already satisfied: click in /usr/local/lib/python3.6/dist-packages (from sacremoses->transformers) (7.1.1)\n",
            "Requirement already satisfied: joblib in /usr/local/lib/python3.6/dist-packages (from sacremoses->transformers) (0.14.1)\n",
            "Requirement already satisfied: s3transfer<0.4.0,>=0.3.0 in /usr/local/lib/python3.6/dist-packages (from boto3->transformers) (0.3.3)\n",
            "Requirement already satisfied: jmespath<1.0.0,>=0.7.1 in /usr/local/lib/python3.6/dist-packages (from boto3->transformers) (0.9.5)\n",
            "Requirement already satisfied: botocore<1.16.0,>=1.15.38 in /usr/local/lib/python3.6/dist-packages (from boto3->transformers) (1.15.38)\n",
            "Requirement already satisfied: certifi>=2017.4.17 in /usr/local/lib/python3.6/dist-packages (from requests->transformers) (2020.4.5.1)\n",
            "Requirement already satisfied: chardet<3.1.0,>=3.0.2 in /usr/local/lib/python3.6/dist-packages (from requests->transformers) (3.0.4)\n",
            "Requirement already satisfied: urllib3<1.25,>=1.21.1 in /usr/local/lib/python3.6/dist-packages (from requests->transformers) (1.24.3)\n",
            "Requirement already satisfied: idna<2.9,>=2.5 in /usr/local/lib/python3.6/dist-packages (from requests->transformers) (2.8)\n",
            "Requirement already satisfied: python-dateutil<3.0.0,>=2.1 in /usr/local/lib/python3.6/dist-packages (from botocore<1.16.0,>=1.15.38->boto3->transformers) (2.8.1)\n",
            "Requirement already satisfied: docutils<0.16,>=0.10 in /usr/local/lib/python3.6/dist-packages (from botocore<1.16.0,>=1.15.38->boto3->transformers) (0.15.2)\n",
            "Building wheels for collected packages: sacremoses\n",
            "  Building wheel for sacremoses (setup.py) ... \u001b[?25l\u001b[?25hdone\n",
            "  Created wheel for sacremoses: filename=sacremoses-0.0.38-cp36-none-any.whl size=884628 sha256=6cca1546a2d890b72a1dbb458b5c38e4f6bc98edddad87f72e14402ea2d12f2b\n",
            "  Stored in directory: /root/.cache/pip/wheels/6d/ec/1a/21b8912e35e02741306f35f66c785f3afe94de754a0eaf1422\n",
            "Successfully built sacremoses\n",
            "Installing collected packages: tokenizers, sacremoses, sentencepiece, transformers\n",
            "Successfully installed sacremoses-0.0.38 sentencepiece-0.1.85 tokenizers-0.5.2 transformers-2.8.0\n"
          ],
          "name": "stdout"
        }
      ]
    },
    {
      "cell_type": "code",
      "metadata": {
        "id": "mh69dr_c1Vja",
        "colab_type": "code",
        "colab": {}
      },
      "source": [
        "from transformers import TFBertModel, BertTokenizer\n",
        "from tensorflow.keras.utils import Sequence, to_categorical"
      ],
      "execution_count": 0,
      "outputs": []
    },
    {
      "cell_type": "markdown",
      "metadata": {
        "id": "ZGuol6FoyI18",
        "colab_type": "text"
      },
      "source": [
        "#### 2.3.1. Creating data generator"
      ]
    },
    {
      "cell_type": "code",
      "metadata": {
        "colab_type": "code",
        "id": "BqzE3kkuZTai",
        "colab": {}
      },
      "source": [
        "class DataGenerator(Sequence):\n",
        "    def __init__(self, texts, labels, maxlen, batch_size=32):\n",
        "        \n",
        "        self.texts = texts\n",
        "        self.labels = labels\n",
        "        self.tokenizer = BertTokenizer.from_pretrained('bert-base-uncased', do_lower_case=True)\n",
        "        self.maxlen = maxlen\n",
        "        self.batch_size = batch_size\n",
        "        self.on_epoch_end()\n",
        "        \n",
        "\n",
        "    def on_epoch_end(self):\n",
        "        self.indices = np.arange(len(self.texts))\n",
        "        np.random.shuffle(self.indices)\n",
        "\n",
        "\n",
        "    def __len__(self):\n",
        "        return int(np.ceil(len(self.texts) / self.batch_size))\n",
        "    \n",
        "    \n",
        "    def __getitem__(self, idx):\n",
        "        curr_batch = self.indices[idx*self.batch_size:(idx+1)*self.batch_size]\n",
        "        batch_len = len(curr_batch)  \n",
        "\n",
        "        y = np.zeros((batch_len, 3), dtype=np.float32)       \n",
        "        ids = []\n",
        "        masks = []\n",
        "        type_ids = []\n",
        "\n",
        "        for i, index in enumerate(curr_batch):\n",
        "            text = self.texts[index]\n",
        "            inputs = self.tokenizer.encode_plus(text, None, add_special_tokens=True, max_length=self.maxlen)\n",
        "            input_ids = inputs[\"input_ids\"]\n",
        "            attention_mask = inputs[\"attention_mask\"]\n",
        "            token_type_ids = inputs[\"token_type_ids\"]\n",
        "\n",
        "            padding_lengths = self.maxlen - len(input_ids)\n",
        "            ids.append(input_ids + [0]*padding_lengths)\n",
        "            masks.append(attention_mask + [0]*padding_lengths)\n",
        "            type_ids.append(token_type_ids + [0]*padding_lengths)\n",
        "            y[i] = self.labels[index]\n",
        "        \n",
        "        return [\n",
        "            tf.constant(ids, dtype=tf.int32), \n",
        "            tf.constant(masks, dtype=tf.int32),\n",
        "            tf.constant(type_ids, dtype=tf.int32)\n",
        "        ], y"
      ],
      "execution_count": 0,
      "outputs": []
    },
    {
      "cell_type": "code",
      "metadata": {
        "id": "vo7IjRJPYmOi",
        "colab_type": "code",
        "colab": {}
      },
      "source": [
        "X_train, X_test, Y_train, Y_test = train_test_split(df[\"text\"], Y, test_size=0.1, random_state=167, stratify=df[\"stars\"])"
      ],
      "execution_count": 0,
      "outputs": []
    },
    {
      "cell_type": "code",
      "metadata": {
        "id": "9onn0c3ma-Zz",
        "colab_type": "code",
        "colab": {}
      },
      "source": [
        "train_generator = DataGenerator(X_train.reset_index(drop=True), Y_train, maxlen=256)\n",
        "test_generator = DataGenerator(X_test.reset_index(drop=True), Y_test, maxlen=256)"
      ],
      "execution_count": 0,
      "outputs": []
    },
    {
      "cell_type": "code",
      "metadata": {
        "id": "KuOEGVvIpqNg",
        "colab_type": "code",
        "colab": {}
      },
      "source": [
        "data_exp = next(iter(train_generator))"
      ],
      "execution_count": 0,
      "outputs": []
    },
    {
      "cell_type": "markdown",
      "metadata": {
        "id": "3e-IZDo6y34F",
        "colab_type": "text"
      },
      "source": [
        "#### 2.3.2. Training model"
      ]
    },
    {
      "cell_type": "code",
      "metadata": {
        "id": "FMdhIY-Ll9rb",
        "colab_type": "code",
        "colab": {}
      },
      "source": [
        "class SentimentClassifier(tf.keras.Model):\n",
        "\n",
        "    def __init__(self):\n",
        "        super(SentimentClassifier, self).__init__()\n",
        "        self.bert = TFBertModel.from_pretrained(\"bert-base-uncased\")\n",
        "        self.drop = tf.keras.layers.Dropout(0.3)\n",
        "        self.out = tf.keras.layers.Dense(3, activation=\"softmax\")\n",
        "\n",
        "    def call(self, inputs):\n",
        "        # ids, masks, token_type_ids = inputs\n",
        "        _, x = self.bert(inputs)\n",
        "        x = self.drop(x)\n",
        "        x = self.out(x)\n",
        "        return x\n"
      ],
      "execution_count": 0,
      "outputs": []
    },
    {
      "cell_type": "code",
      "metadata": {
        "id": "_TZIGfzsxcu0",
        "colab_type": "code",
        "outputId": "7629bf08-0918-43fc-d6ba-19f0f1b38655",
        "colab": {
          "base_uri": "https://localhost:8080/",
          "height": 116,
          "referenced_widgets": [
            "8ef699a4c8e44a29a5e0a43c07e18d47",
            "9b668996df7b4dd2a2c6bb3b6cf5579d",
            "cfeee6a3d42e405da64f63fdb92acc2c",
            "fba31a73f6674ec286376bd7c2d50d69",
            "07e92d04379846d69f185dcd56a84707",
            "7204a467e4754ec6ace08f77384797d2",
            "7f5609cb7afb45fbacd0bee309a055d8",
            "1ecf8f7756e04f949eac176334a24bfd",
            "9c2f271e9e1e407b8c97d4143314e403",
            "417ec64e8f2e4f54b8ffb574ec7afb99",
            "e4ef6faae6b940be97bbbdb8aed77669",
            "742bb28b82af42508aab9b060a223fc8",
            "cd214304142343e98788ff3d80aa1271",
            "9b1e0d3d2ac140499e48f671eb7518ed",
            "ebff2f5ee3374e6c9d03432fe94c3f13",
            "b04dc992249844b7bb122f2c2a2b4256"
          ]
        }
      },
      "source": [
        "model = SentimentClassifier()"
      ],
      "execution_count": 0,
      "outputs": [
        {
          "output_type": "display_data",
          "data": {
            "application/vnd.jupyter.widget-view+json": {
              "model_id": "8ef699a4c8e44a29a5e0a43c07e18d47",
              "version_minor": 0,
              "version_major": 2
            },
            "text/plain": [
              "HBox(children=(IntProgress(value=0, description='Downloading', max=361, style=ProgressStyle(description_width=…"
            ]
          },
          "metadata": {
            "tags": []
          }
        },
        {
          "output_type": "stream",
          "text": [
            "\n"
          ],
          "name": "stdout"
        },
        {
          "output_type": "display_data",
          "data": {
            "application/vnd.jupyter.widget-view+json": {
              "model_id": "9c2f271e9e1e407b8c97d4143314e403",
              "version_minor": 0,
              "version_major": 2
            },
            "text/plain": [
              "HBox(children=(IntProgress(value=0, description='Downloading', max=536063208, style=ProgressStyle(description_…"
            ]
          },
          "metadata": {
            "tags": []
          }
        },
        {
          "output_type": "stream",
          "text": [
            "\n"
          ],
          "name": "stdout"
        }
      ]
    },
    {
      "cell_type": "code",
      "metadata": {
        "id": "Uap5gzQxym-T",
        "colab_type": "code",
        "colab": {}
      },
      "source": [
        "out_test = model(data_exp[0])"
      ],
      "execution_count": 0,
      "outputs": []
    },
    {
      "cell_type": "code",
      "metadata": {
        "id": "6TQ9_rte1bxc",
        "colab_type": "code",
        "outputId": "45f3e004-d71d-40e6-c55f-92bf3b122571",
        "colab": {
          "base_uri": "https://localhost:8080/",
          "height": 260
        }
      },
      "source": [
        "model.summary()"
      ],
      "execution_count": 0,
      "outputs": [
        {
          "output_type": "stream",
          "text": [
            "Model: \"sentiment_classifier\"\n",
            "_________________________________________________________________\n",
            "Layer (type)                 Output Shape              Param #   \n",
            "=================================================================\n",
            "tf_bert_model (TFBertModel)  multiple                  109482240 \n",
            "_________________________________________________________________\n",
            "dropout_37 (Dropout)         multiple                  0         \n",
            "_________________________________________________________________\n",
            "dense (Dense)                multiple                  2307      \n",
            "=================================================================\n",
            "Total params: 109,484,547\n",
            "Trainable params: 109,484,547\n",
            "Non-trainable params: 0\n",
            "_________________________________________________________________\n"
          ],
          "name": "stdout"
        }
      ]
    },
    {
      "cell_type": "code",
      "metadata": {
        "id": "K9K2v6YRxbJq",
        "colab_type": "code",
        "colab": {}
      },
      "source": [
        "opt = tf.keras.optimizers.Adam(lr = 3e-5, decay = 0.01)\n",
        "model.compile(loss='categorical_crossentropy', optimizer=opt, metrics=['accuracy'])"
      ],
      "execution_count": 0,
      "outputs": []
    },
    {
      "cell_type": "code",
      "metadata": {
        "id": "pS5wvt3oXoFo",
        "colab_type": "code",
        "colab": {}
      },
      "source": [
        "check_point = ModelCheckpoint('model3.hdf5', monitor='val_acc', mode='max', save_best_only=True, verbose=1)\n",
        "early_stop = EarlyStopping(patience=3)"
      ],
      "execution_count": 0,
      "outputs": []
    },
    {
      "cell_type": "code",
      "metadata": {
        "colab_type": "code",
        "id": "5TCIsEzMZTan",
        "outputId": "74aadf91-6232-444f-bd33-3d205795d660",
        "colab": {
          "base_uri": "https://localhost:8080/",
          "height": 367
        }
      },
      "source": [
        "model.fit_generator(train_generator, validation_data = test_generator, steps_per_epoch=len(train_generator), epochs=10, callbacks=[check_point, early_stop])"
      ],
      "execution_count": 0,
      "outputs": [
        {
          "output_type": "stream",
          "text": [
            "WARNING:tensorflow:From <ipython-input-23-1c2213c30e28>:1: Model.fit_generator (from tensorflow.python.keras.engine.training) is deprecated and will be removed in a future version.\n",
            "Instructions for updating:\n",
            "Please use Model.fit, which supports generators.\n",
            "Epoch 1/10\n",
            "563/563 [==============================] - ETA: 0s - loss: 0.4258 - accuracy: 0.8306WARNING:tensorflow:Can save best model only with val_acc available, skipping.\n",
            "563/563 [==============================] - 555s 985ms/step - loss: 0.4258 - accuracy: 0.8306 - val_loss: 0.3537 - val_accuracy: 0.8655\n",
            "Epoch 2/10\n",
            "563/563 [==============================] - ETA: 0s - loss: 0.2919 - accuracy: 0.8872WARNING:tensorflow:Can save best model only with val_acc available, skipping.\n",
            "563/563 [==============================] - 551s 979ms/step - loss: 0.2919 - accuracy: 0.8872 - val_loss: 0.3403 - val_accuracy: 0.8670\n",
            "Epoch 3/10\n",
            "563/563 [==============================] - ETA: 0s - loss: 0.2568 - accuracy: 0.9011WARNING:tensorflow:Can save best model only with val_acc available, skipping.\n",
            "563/563 [==============================] - 551s 979ms/step - loss: 0.2568 - accuracy: 0.9011 - val_loss: 0.3451 - val_accuracy: 0.8620\n",
            "Epoch 4/10\n",
            "563/563 [==============================] - ETA: 0s - loss: 0.2341 - accuracy: 0.9102WARNING:tensorflow:Can save best model only with val_acc available, skipping.\n",
            "563/563 [==============================] - 552s 980ms/step - loss: 0.2341 - accuracy: 0.9102 - val_loss: 0.3612 - val_accuracy: 0.8645\n",
            "Epoch 5/10\n",
            "563/563 [==============================] - ETA: 0s - loss: 0.2183 - accuracy: 0.9180WARNING:tensorflow:Can save best model only with val_acc available, skipping.\n",
            "563/563 [==============================] - 552s 980ms/step - loss: 0.2183 - accuracy: 0.9180 - val_loss: 0.3659 - val_accuracy: 0.8620\n"
          ],
          "name": "stdout"
        },
        {
          "output_type": "execute_result",
          "data": {
            "text/plain": [
              "<tensorflow.python.keras.callbacks.History at 0x7ff995bd5ac8>"
            ]
          },
          "metadata": {
            "tags": []
          },
          "execution_count": 23
        }
      ]
    },
    {
      "cell_type": "code",
      "metadata": {
        "colab_type": "code",
        "id": "9oRudsJmZTbD",
        "colab": {}
      },
      "source": [
        ""
      ],
      "execution_count": 0,
      "outputs": []
    },
    {
      "cell_type": "code",
      "metadata": {
        "colab_type": "code",
        "id": "4i0ltedIZTbE",
        "colab": {}
      },
      "source": [
        ""
      ],
      "execution_count": 0,
      "outputs": []
    },
    {
      "cell_type": "code",
      "metadata": {
        "colab_type": "code",
        "id": "pPu8BABlZTbF",
        "colab": {}
      },
      "source": [
        ""
      ],
      "execution_count": 0,
      "outputs": []
    },
    {
      "cell_type": "code",
      "metadata": {
        "colab_type": "code",
        "id": "cYX15RV_ZTbG",
        "colab": {}
      },
      "source": [
        ""
      ],
      "execution_count": 0,
      "outputs": []
    }
  ]
}